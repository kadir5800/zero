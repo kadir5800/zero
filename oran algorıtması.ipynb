{
 "cells": [
  {
   "cell_type": "code",
   "execution_count": 1,
   "id": "8dedc3b9",
   "metadata": {},
   "outputs": [],
   "source": [
    "import pandas as pd\n",
    "import numpy as np\n",
    "import math\n",
    "import matplotlib.pyplot as plt\n",
    "import seaborn as sns\n",
    "import statistics\n",
    "from sklearn import metrics, datasets, preprocessing, model_selection\n",
    "from sklearn.model_selection import train_test_split, cross_val_score\n",
    "from sklearn.linear_model import LogisticRegression\n",
    "from sklearn.metrics import confusion_matrix, precision_score, recall_score, precision_recall_curve,f1_score, roc_auc_score, roc_curve, plot_roc_curve\n",
    "from sklearn.ensemble import BaggingClassifier, RandomForestClassifier\n",
    "from sklearn.tree import DecisionTreeClassifier\n",
    "from sklearn.preprocessing import LabelEncoder,OneHotEncoder\n",
    "le=LabelEncoder()"
   ]
  },
  {
   "cell_type": "code",
   "execution_count": 2,
   "id": "db13e3f7",
   "metadata": {},
   "outputs": [
    {
     "data": {
      "text/html": [
       "<div>\n",
       "<style scoped>\n",
       "    .dataframe tbody tr th:only-of-type {\n",
       "        vertical-align: middle;\n",
       "    }\n",
       "\n",
       "    .dataframe tbody tr th {\n",
       "        vertical-align: top;\n",
       "    }\n",
       "\n",
       "    .dataframe thead th {\n",
       "        text-align: right;\n",
       "    }\n",
       "</style>\n",
       "<table border=\"1\" class=\"dataframe\">\n",
       "  <thead>\n",
       "    <tr style=\"text-align: right;\">\n",
       "      <th></th>\n",
       "      <th>sepal length</th>\n",
       "      <th>sepal width</th>\n",
       "      <th>petal length</th>\n",
       "      <th>petal width</th>\n",
       "      <th>iris</th>\n",
       "    </tr>\n",
       "  </thead>\n",
       "  <tbody>\n",
       "    <tr>\n",
       "      <th>0</th>\n",
       "      <td>5.1</td>\n",
       "      <td>3.5</td>\n",
       "      <td>1.4</td>\n",
       "      <td>0.2</td>\n",
       "      <td>0</td>\n",
       "    </tr>\n",
       "    <tr>\n",
       "      <th>1</th>\n",
       "      <td>4.9</td>\n",
       "      <td>3.0</td>\n",
       "      <td>1.4</td>\n",
       "      <td>0.2</td>\n",
       "      <td>0</td>\n",
       "    </tr>\n",
       "    <tr>\n",
       "      <th>2</th>\n",
       "      <td>4.7</td>\n",
       "      <td>3.2</td>\n",
       "      <td>1.3</td>\n",
       "      <td>0.2</td>\n",
       "      <td>0</td>\n",
       "    </tr>\n",
       "    <tr>\n",
       "      <th>3</th>\n",
       "      <td>4.6</td>\n",
       "      <td>3.1</td>\n",
       "      <td>1.5</td>\n",
       "      <td>0.2</td>\n",
       "      <td>0</td>\n",
       "    </tr>\n",
       "    <tr>\n",
       "      <th>4</th>\n",
       "      <td>5.0</td>\n",
       "      <td>3.6</td>\n",
       "      <td>1.4</td>\n",
       "      <td>0.2</td>\n",
       "      <td>0</td>\n",
       "    </tr>\n",
       "    <tr>\n",
       "      <th>...</th>\n",
       "      <td>...</td>\n",
       "      <td>...</td>\n",
       "      <td>...</td>\n",
       "      <td>...</td>\n",
       "      <td>...</td>\n",
       "    </tr>\n",
       "    <tr>\n",
       "      <th>145</th>\n",
       "      <td>6.7</td>\n",
       "      <td>3.0</td>\n",
       "      <td>5.2</td>\n",
       "      <td>2.3</td>\n",
       "      <td>2</td>\n",
       "    </tr>\n",
       "    <tr>\n",
       "      <th>146</th>\n",
       "      <td>6.3</td>\n",
       "      <td>2.5</td>\n",
       "      <td>5.0</td>\n",
       "      <td>1.9</td>\n",
       "      <td>2</td>\n",
       "    </tr>\n",
       "    <tr>\n",
       "      <th>147</th>\n",
       "      <td>6.5</td>\n",
       "      <td>3.0</td>\n",
       "      <td>5.2</td>\n",
       "      <td>2.0</td>\n",
       "      <td>2</td>\n",
       "    </tr>\n",
       "    <tr>\n",
       "      <th>148</th>\n",
       "      <td>6.2</td>\n",
       "      <td>3.4</td>\n",
       "      <td>5.4</td>\n",
       "      <td>2.3</td>\n",
       "      <td>2</td>\n",
       "    </tr>\n",
       "    <tr>\n",
       "      <th>149</th>\n",
       "      <td>5.9</td>\n",
       "      <td>3.0</td>\n",
       "      <td>5.1</td>\n",
       "      <td>1.8</td>\n",
       "      <td>2</td>\n",
       "    </tr>\n",
       "  </tbody>\n",
       "</table>\n",
       "<p>150 rows × 5 columns</p>\n",
       "</div>"
      ],
      "text/plain": [
       "     sepal length  sepal width  petal length  petal width  iris\n",
       "0             5.1          3.5           1.4          0.2     0\n",
       "1             4.9          3.0           1.4          0.2     0\n",
       "2             4.7          3.2           1.3          0.2     0\n",
       "3             4.6          3.1           1.5          0.2     0\n",
       "4             5.0          3.6           1.4          0.2     0\n",
       "..            ...          ...           ...          ...   ...\n",
       "145           6.7          3.0           5.2          2.3     2\n",
       "146           6.3          2.5           5.0          1.9     2\n",
       "147           6.5          3.0           5.2          2.0     2\n",
       "148           6.2          3.4           5.4          2.3     2\n",
       "149           5.9          3.0           5.1          1.8     2\n",
       "\n",
       "[150 rows x 5 columns]"
      ]
     },
     "execution_count": 2,
     "metadata": {},
     "output_type": "execute_result"
    }
   ],
   "source": [
    "df=pd.read_excel(\"Iris.xls\")\n",
    "df[\"iris\"]=le.fit_transform(df[\"iris\"])\n",
    "x=df.loc[:,[\"sepal length\",\"sepal width\",\"petal length\",\"petal width\"]]\n",
    "y=df[\"iris\"]\n",
    "x_train,x_test,y_train,y_test=train_test_split(x,y,train_size=0.7,random_state=42)\n",
    "df"
   ]
  },
  {
   "cell_type": "code",
   "execution_count": 3,
   "id": "589f9e4d",
   "metadata": {},
   "outputs": [],
   "source": [
    "def fit_predict(x_train,y_train,x_test):\n",
    "    ydf=pd.concat([x_train,y_train], axis=1)\n",
    "    küme=[]\n",
    "    for i in range(0,y_train.values.max()+1):\n",
    "        küme.append(ydf[ydf.iloc[:,(len(ydf.columns)-1):len(ydf.columns)].values ==i]) \n",
    "        küme[i]=küme[i].drop(ydf.iloc[:,(len(ydf.columns)-1):len(ydf.columns)],axis=1)\n",
    "    mean_küme=[]\n",
    "    for i in range(0,y_train.values.max()+1):\n",
    "        for k in range(0,len(x_train.columns)):\n",
    "            mean_küme.append(küme[i].iloc[:,k:k+1].mean().values)\n",
    "    mean_küme=np.array(mean_küme)\n",
    "    mean_küme=mean_küme.reshape((y_train.values.max()+1,len(x_train.columns)))\n",
    "    mean_küme=pd.DataFrame(mean_küme)\n",
    "    oran_küme=[]\n",
    "    for i in range(0,y_train.values.max()+1):\n",
    "        for d in range(0,len(mean_küme.columns)):\n",
    "            for j in range(0,len(mean_küme.columns)):\n",
    "                if mean_küme.iloc[i:i+1,d:d+1].values!=mean_küme.iloc[i:i+1,j:j+1].values:\n",
    "                    oran_küme.append(abs(mean_küme.iloc[i:i+1,d:d+1].values/mean_küme.iloc[i:i+1,j:j+1].values))\n",
    "    oran_küme=np.array(oran_küme)\n",
    "    oran_küme=oran_küme.reshape(((y_train.values.max()+1)*len(mean_küme.columns),len(mean_küme.columns)-1))\n",
    "    hesap=[]\n",
    "    for i in range(0,x_test[x_test.columns[0]].count()):\n",
    "        for d in range(0,len(x_test.columns)):\n",
    "            for j in range(0,len(x_test.columns)):\n",
    "                if d!=j:\n",
    "                    if x_test.iloc[i,j]==0:\n",
    "                        hesap.append(abs(x_test.iloc[i,d]/1))\n",
    "                    else:\n",
    "                        hesap.append(abs(x_test.iloc[i,d]/x_test.iloc[i,j]))\n",
    "    hesap=np.array(hesap)\n",
    "    hesap=hesap.reshape(x_test[x_test.columns[0]].count()*len(x_test.columns),(len(x_test.columns)-1))\n",
    "    d=0\n",
    "    sonuc=[]\n",
    "    i=0\n",
    "    while i <(x_test[x_test.columns[0]].count()*len(x_test.columns)): \n",
    "        if i > len(x_test.columns)-1:\n",
    "            d=i\n",
    "            d=d%4\n",
    "            for x in range(0,y_train.max()+1):\n",
    "                for k in range(0,len(x_test.columns)-1):\n",
    "                    sonuc.append(abs(hesap[i,k]-oran_küme[d+(x*len(x_test.columns)),k]))\n",
    "        else:\n",
    "            for x in range(0,y_train.max()+1):\n",
    "                for k in range(0,len(x_test.columns)-1):\n",
    "                    sonuc.append(abs(hesap[i,k]-oran_küme[i+(x*len(x_test.columns)),k]))\n",
    "        i=i+1\n",
    "    sonuc=np.array(sonuc)\n",
    "    sayac=0\n",
    "    result=[]\n",
    "    i=0\n",
    "    while i < sonuc.size:\n",
    "        for x in range(len(x_test.columns)-1):\n",
    "            sayac=sonuc[i]+sayac\n",
    "            i=i+1\n",
    "        result.append(sayac)\n",
    "        sayac=0\n",
    "    result=np.array(result)\n",
    "    result=result.reshape((x_test[x_test.columns[0]].count()*len(x_test.columns)),y_train.max()+1)\n",
    "    hesap=[]\n",
    "    sayac=0\n",
    "    i=0\n",
    "    upper=0\n",
    "    upper1=0\n",
    "    while i < result.size:\n",
    "        sayac=0\n",
    "        if i%(len(x_test.columns)*(y_train.max()+1))==0 and i>0:\n",
    "            upper=upper+len(x_test.columns)\n",
    "        if upper1==(y_train.max()+1):\n",
    "            upper1=0\n",
    "        for k in range(0,len(x_test.columns)):\n",
    "            sayac=result[k+upper,upper1]+sayac\n",
    "            i=i+1\n",
    "        hesap.append(sayac)\n",
    "        upper1=upper1+1\n",
    "    sayac=999999999\n",
    "    index=0\n",
    "    sonuc=[]\n",
    "    i=0\n",
    "    while i<len(hesap):\n",
    "        for x in range(y_train.max()+1):\n",
    "            if hesap[i]<sayac:\n",
    "                sayac=hesap[i]\n",
    "                index=i\n",
    "            i=i+1\n",
    "        sonuc.append(index%(y_train.max()+1))\n",
    "        index=0\n",
    "        sayac=9999999999\n",
    "    sonuc=pd.DataFrame(data=sonuc)\n",
    "    return sonuc"
   ]
  },
  {
   "cell_type": "code",
   "execution_count": 4,
   "id": "fc46810a",
   "metadata": {},
   "outputs": [],
   "source": [
    "tahmin=fit_predict(x_train,y_train,x_test)"
   ]
  },
  {
   "cell_type": "code",
   "execution_count": 5,
   "id": "faefec2e",
   "metadata": {},
   "outputs": [
    {
     "data": {
      "text/plain": [
       "Text(0.5, 1.0, 'puanlama algoritma Classification')"
      ]
     },
     "execution_count": 5,
     "metadata": {},
     "output_type": "execute_result"
    },
    {
     "data": {
      "image/png": "[encoded data removed]",
      "text/plain": [
       "<Figure size 432x288 with 2 Axes>"
      ]
     },
     "metadata": {
      "needs_background": "light"
     },
     "output_type": "display_data"
    }
   ],
   "source": [
    "cm = confusion_matrix(y_test,tahmin)\n",
    "ax= plt.subplot()\n",
    "sns.heatmap(cm, annot=True, ax = ax, linewidths=0.5, cmap = 'Blues_r', fmt='d')\n",
    "ax.set_xlabel('Predicted labels')\n",
    "ax.set_ylabel('True labels')\n",
    "ax.set_title('puanlama algoritma Classification')"
   ]
  },
  {
   "cell_type": "code",
   "execution_count": 11,
   "id": "c3d265f4",
   "metadata": {},
   "outputs": [],
   "source": [
    "df=pd.read_csv(\"heart.csv\")\n",
    "df=df.rename(columns={\"age\":\"yaş\",\"sex\":\"cinsiyet\",\"trestbps\":\"tansiyon\",\"chol\":\"kolestrol\",\"fbs\":\"A.kanşekeri\",\"restecg\":\"EKG\",\"thalach\":\"MaxNabız\",\"exang\":\"Anjin\",\"oldpeak\":\"STdep\",\"slope\":\"STegimi\",\"ca\":\"florosopi\",\"thal\":\"thal\",\"target\":\"KalpHast\"})\n",
    "x=df.loc[:,[\"yaş\",\"cinsiyet\",\"cp\",\"tansiyon\",\"kolestrol\",\"A.kanşekeri\",\"EKG\",\"MaxNabız\",\"Anjin\",\"STdep\",\"STegimi\",\"florosopi\",\"thal\"]]\n",
    "y=df[\"KalpHast\"]\n",
    "x_train,x_test,y_train,y_test=train_test_split(x,y,train_size=0.7,random_state=42)"
   ]
  },
  {
   "cell_type": "code",
   "execution_count": 12,
   "id": "f29435a7",
   "metadata": {},
   "outputs": [],
   "source": [
    "tk=fit_predict(x_train,y_train,x_test)"
   ]
  },
  {
   "cell_type": "code",
   "execution_count": 13,
   "id": "50c0034e",
   "metadata": {},
   "outputs": [
    {
     "data": {
      "text/plain": [
       "Text(0.5, 1.0, 'puanlama algoritma Classification')"
      ]
     },
     "execution_count": 13,
     "metadata": {},
     "output_type": "execute_result"
    },
    {
     "data": {
      "image/png": "[encoded data removed]",
      "text/plain": [
       "<Figure size 432x288 with 2 Axes>"
      ]
     },
     "metadata": {
      "needs_background": "light"
     },
     "output_type": "display_data"
    }
   ],
   "source": [
    "cm = confusion_matrix(y_test,tk)\n",
    "ax= plt.subplot()\n",
    "sns.heatmap(cm, annot=True, ax = ax, linewidths=0.5, cmap = 'Blues_r', fmt='d')\n",
    "ax.set_xlabel('Predicted labels')\n",
    "ax.set_ylabel('True labels')\n",
    "ax.set_title('puanlama algoritma Classification')"
   ]
  },
  {
   "cell_type": "code",
   "execution_count": null,
   "id": "342c1c7b",
   "metadata": {},
   "outputs": [],
   "source": []
  }
 ],
 "metadata": {
  "kernelspec": {
   "display_name": "Python 3",
   "language": "python",
   "name": "python3"
  },
  "language_info": {
   "codemirror_mode": {
    "name": "ipython",
    "version": 3
   },
   "file_extension": ".py",
   "mimetype": "text/x-python",
   "name": "python",
   "nbconvert_exporter": "python",
   "pygments_lexer": "ipython3",
   "version": "3.8.8"
  }
 },
 "nbformat": 4,
 "nbformat_minor": 5
}
