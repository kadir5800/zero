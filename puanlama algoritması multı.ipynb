{
 "cells": [
  {
   "cell_type": "code",
   "execution_count": 2,
   "id": "92e3aa07",
   "metadata": {},
   "outputs": [],
   "source": [
    "import pandas as pd\n",
    "import numpy as np\n",
    "from sklearn.model_selection import train_test_split, cross_val_score\n",
    "import math\n",
    "import matplotlib.pyplot as plt\n",
    "import seaborn as sns\n",
    "import statistics\n",
    "from sklearn import metrics, datasets, preprocessing, model_selection\n",
    "from sklearn.model_selection import train_test_split, cross_val_score\n",
    "from sklearn.linear_model import LogisticRegression\n",
    "from sklearn.metrics import confusion_matrix, precision_score, recall_score, precision_recall_curve,f1_score, roc_auc_score, roc_curve, plot_roc_curve\n",
    "from sklearn.ensemble import BaggingClassifier, RandomForestClassifier\n",
    "from sklearn.tree import DecisionTreeClassifier"
   ]
  },
  {
   "cell_type": "code",
   "execution_count": 3,
   "id": "d36b6506",
   "metadata": {},
   "outputs": [
    {
     "data": {
      "text/html": [
       "<div>\n",
       "<style scoped>\n",
       "    .dataframe tbody tr th:only-of-type {\n",
       "        vertical-align: middle;\n",
       "    }\n",
       "\n",
       "    .dataframe tbody tr th {\n",
       "        vertical-align: top;\n",
       "    }\n",
       "\n",
       "    .dataframe thead th {\n",
       "        text-align: right;\n",
       "    }\n",
       "</style>\n",
       "<table border=\"1\" class=\"dataframe\">\n",
       "  <thead>\n",
       "    <tr style=\"text-align: right;\">\n",
       "      <th></th>\n",
       "      <th>sepal length</th>\n",
       "      <th>sepal width</th>\n",
       "      <th>petal length</th>\n",
       "      <th>petal width</th>\n",
       "      <th>iris</th>\n",
       "    </tr>\n",
       "  </thead>\n",
       "  <tbody>\n",
       "    <tr>\n",
       "      <th>0</th>\n",
       "      <td>5.1</td>\n",
       "      <td>3.5</td>\n",
       "      <td>1.4</td>\n",
       "      <td>0.2</td>\n",
       "      <td>0</td>\n",
       "    </tr>\n",
       "    <tr>\n",
       "      <th>1</th>\n",
       "      <td>4.9</td>\n",
       "      <td>3.0</td>\n",
       "      <td>1.4</td>\n",
       "      <td>0.2</td>\n",
       "      <td>0</td>\n",
       "    </tr>\n",
       "    <tr>\n",
       "      <th>2</th>\n",
       "      <td>4.7</td>\n",
       "      <td>3.2</td>\n",
       "      <td>1.3</td>\n",
       "      <td>0.2</td>\n",
       "      <td>0</td>\n",
       "    </tr>\n",
       "    <tr>\n",
       "      <th>3</th>\n",
       "      <td>4.6</td>\n",
       "      <td>3.1</td>\n",
       "      <td>1.5</td>\n",
       "      <td>0.2</td>\n",
       "      <td>0</td>\n",
       "    </tr>\n",
       "    <tr>\n",
       "      <th>4</th>\n",
       "      <td>5.0</td>\n",
       "      <td>3.6</td>\n",
       "      <td>1.4</td>\n",
       "      <td>0.2</td>\n",
       "      <td>0</td>\n",
       "    </tr>\n",
       "    <tr>\n",
       "      <th>...</th>\n",
       "      <td>...</td>\n",
       "      <td>...</td>\n",
       "      <td>...</td>\n",
       "      <td>...</td>\n",
       "      <td>...</td>\n",
       "    </tr>\n",
       "    <tr>\n",
       "      <th>145</th>\n",
       "      <td>6.7</td>\n",
       "      <td>3.0</td>\n",
       "      <td>5.2</td>\n",
       "      <td>2.3</td>\n",
       "      <td>2</td>\n",
       "    </tr>\n",
       "    <tr>\n",
       "      <th>146</th>\n",
       "      <td>6.3</td>\n",
       "      <td>2.5</td>\n",
       "      <td>5.0</td>\n",
       "      <td>1.9</td>\n",
       "      <td>2</td>\n",
       "    </tr>\n",
       "    <tr>\n",
       "      <th>147</th>\n",
       "      <td>6.5</td>\n",
       "      <td>3.0</td>\n",
       "      <td>5.2</td>\n",
       "      <td>2.0</td>\n",
       "      <td>2</td>\n",
       "    </tr>\n",
       "    <tr>\n",
       "      <th>148</th>\n",
       "      <td>6.2</td>\n",
       "      <td>3.4</td>\n",
       "      <td>5.4</td>\n",
       "      <td>2.3</td>\n",
       "      <td>2</td>\n",
       "    </tr>\n",
       "    <tr>\n",
       "      <th>149</th>\n",
       "      <td>5.9</td>\n",
       "      <td>3.0</td>\n",
       "      <td>5.1</td>\n",
       "      <td>1.8</td>\n",
       "      <td>2</td>\n",
       "    </tr>\n",
       "  </tbody>\n",
       "</table>\n",
       "<p>150 rows × 5 columns</p>\n",
       "</div>"
      ],
      "text/plain": [
       "     sepal length  sepal width  petal length  petal width  iris\n",
       "0             5.1          3.5           1.4          0.2     0\n",
       "1             4.9          3.0           1.4          0.2     0\n",
       "2             4.7          3.2           1.3          0.2     0\n",
       "3             4.6          3.1           1.5          0.2     0\n",
       "4             5.0          3.6           1.4          0.2     0\n",
       "..            ...          ...           ...          ...   ...\n",
       "145           6.7          3.0           5.2          2.3     2\n",
       "146           6.3          2.5           5.0          1.9     2\n",
       "147           6.5          3.0           5.2          2.0     2\n",
       "148           6.2          3.4           5.4          2.3     2\n",
       "149           5.9          3.0           5.1          1.8     2\n",
       "\n",
       "[150 rows x 5 columns]"
      ]
     },
     "execution_count": 3,
     "metadata": {},
     "output_type": "execute_result"
    }
   ],
   "source": [
    "df=pd.read_excel(\"Iris.xls\")\n",
    "from sklearn.preprocessing import LabelEncoder,OneHotEncoder\n",
    "le=LabelEncoder()\n",
    "df[\"iris\"]=le.fit_transform(df[\"iris\"])\n",
    "df"
   ]
  },
  {
   "cell_type": "code",
   "execution_count": 4,
   "id": "0f0a05f9",
   "metadata": {},
   "outputs": [],
   "source": [
    "x=df.loc[:,[\"sepal length\",\"sepal width\",\"petal length\",\"petal width\"]]\n",
    "y=df[\"iris\"]\n",
    "x_train,x_test,y_train,y_test=train_test_split(x,y,train_size=0.7,random_state=42)"
   ]
  },
  {
   "cell_type": "raw",
   "id": "c5289f9a",
   "metadata": {},
   "source": [
    "timeb=[]\n",
    "for j in range(y_train.values.max()+1):\n",
    "    for i in range(len(x_train.columns)):\n",
    "        timeb.append(math.sqrt((küme[j].iloc[:,i:i+1].values.mean())**2))\n",
    "timeb=np.array(timeb)\n",
    "timeb=timeb.reshape((y_train.values.max()+1),len(x_train.columns))"
   ]
  },
  {
   "cell_type": "code",
   "execution_count": 4,
   "id": "c319a55d",
   "metadata": {},
   "outputs": [],
   "source": [
    "def fit_predict(x_train,y_train,x_test):\n",
    "    ydf=pd.concat([x_train,y_train], axis=1)\n",
    "    küme=[]\n",
    "    for i in range(y_train.values.max()+1):\n",
    "        küme.append(ydf[ydf.iloc[:,(len(ydf.columns)-1):len(ydf.columns)].values ==i])\n",
    "        küme[i]=küme[i].drop(ydf.iloc[:,(len(ydf.columns)-1):len(ydf.columns)],axis=1)\n",
    "    dk_küme=[]\n",
    "    for j in range(y_train.values.max()+1):\n",
    "        for i in range(len(x_train.columns)):\n",
    "            dk_küme.append(math.sqrt((math.sqrt((x_train.iloc[:,i:i+1].values.mean()**2))-math.sqrt((küme[j].iloc[:,i:i+1].values.mean())**2))**2))\n",
    "    array_k=np.array(dk_küme)\n",
    "    array_k=array_k.reshape(y_train.values.max()+1,len(x_train.columns))\n",
    "    dk_ytrain=np.zeros((y_train.values.max()+1,len(x_train.columns)))\n",
    "    for j in range(y_train.values.max()+1):\n",
    "        for i in range(len(x_train.columns)):\n",
    "            dk_ytrain[j,i]=(array_k[j,i])/((x_train.iloc[:,i:i+1].values.max())-(x_train.iloc[:,i:i+1].values.min()))\n",
    "    timeb=[]\n",
    "    for j in range(y_train.values.max()+1):\n",
    "        for i in range(len(x_train.columns)):\n",
    "            timeb.append(math.sqrt((küme[j].iloc[:,i:i+1].values.mean())**2))\n",
    "    timeb=np.array(timeb)\n",
    "    timeb=timeb.reshape((y_train.values.max()+1),len(x_train.columns))\n",
    "    v_uzak=[]\n",
    "    sonuc=[]\n",
    "    toplamP=0    \n",
    "    for j in range(len(x_test.count(1))):\n",
    "        for i in range(len(x_train.columns)):\n",
    "            for k in range(y_train.values.max()+1):\n",
    "                v_uzak.append((math.sqrt((math.sqrt(x_test.iloc[j:(j+1),i:(i+1)].values**2)-timeb[k,i])**2)))\n",
    "    v2_uzak=[]\n",
    "    v_uzak=np.array(v_uzak)\n",
    "    v_uzak=v_uzak.reshape(int(len(v_uzak)/(y_train.values.max()+1)),(y_train.values.max()+1))\n",
    "    for i in range(int(len(v_uzak)/len(x_train.columns))):\n",
    "        for j in range(len(x_train.columns)):\n",
    "            for d in range(y_train.values.max()+1):\n",
    "                for k in range(y_train.values.max()+1):\n",
    "                    if v_uzak[j+(i*len(x_train.columns)),d]>v_uzak[j+(i*len(x_train.columns)),k]:\n",
    "                        toplamP=toplamP+((v_uzak[j+(i*len(x_train.columns)),d]/v_uzak[j+(i*len(x_train.columns)),k]))\n",
    "                    if v_uzak[j+(i*len(x_train.columns)),d]<v_uzak[j+(i*len(x_train.columns)),k]:\n",
    "                        toplamP=toplamP-((v_uzak[j+(i*len(x_train.columns)),d]/v_uzak[j+(i*len(x_train.columns)),k]))\n",
    "                    if v_uzak[j+(i*len(x_train.columns)),d]==v_uzak[j+(i*len(x_train.columns)),k]:\n",
    "                        toplamP=toplamP +0\n",
    "                v2_uzak.append(toplamP*(dk_ytrain[d,j]))\n",
    "                toplamP=0\n",
    "    v2_uzak=np.array(v2_uzak)\n",
    "    v2_uzak=v2_uzak.reshape(int(len(v2_uzak)/(y_train.values.max()+1)),(y_train.values.max()+1))\n",
    "    vtoplam=0\n",
    "    for j in range(int(len(v2_uzak)/len(x_train.columns))):\n",
    "        for i in range(y_train.values.max()+1):\n",
    "            for k in range(len(x_train.columns)):\n",
    "                vtoplam+=v2_uzak[k+(j*len(x_train.columns)),i]\n",
    "            sonuc.append(vtoplam)\n",
    "            vtoplam=0\n",
    "    sonuc=np.array(sonuc)\n",
    "    sonuc=sonuc.reshape(int(len(sonuc)/(y_train.values.max()+1)),y_train.values.max()+1)\n",
    "    prdcdf=pd.DataFrame(data=sonuc)\n",
    "    tahmin=[]\n",
    "    for j in range(prdcdf[0].count()):\n",
    "        for i in range(len(prdcdf.columns)):\n",
    "            if prdcdf.iloc[j:j+1,i:i+1].values==prdcdf.iloc[j:j+1,:].values.min():\n",
    "                tahmin.append(i)\n",
    "    tahmin=pd.DataFrame(data=tahmin)\n",
    "    return tahmin"
   ]
  },
  {
   "cell_type": "code",
   "execution_count": 5,
   "id": "4d470ce2",
   "metadata": {},
   "outputs": [],
   "source": [
    "ydf=pd.concat([x_train,y_train], axis=1)\n",
    "küme=[]\n",
    "for i in range(y_train.values.max()+1):\n",
    "    küme.append(ydf[ydf.iloc[:,(len(ydf.columns)-1):len(ydf.columns)].values ==i])\n",
    "    küme[i]=küme[i].drop(ydf.iloc[:,(len(ydf.columns)-1):len(ydf.columns)],axis=1)\n",
    "dk_küme=[]\n",
    "for j in range(y_train.values.max()+1):\n",
    "    for i in range(len(x_train.columns)):\n",
    "        dk_küme.append(abs((abs((x_train.iloc[:,i:i+1].values.mean()))-abs((küme[j].iloc[:,i:i+1].values.mean())))))\n",
    "array_k=np.array(dk_küme)\n",
    "array_k=array_k.reshape(y_train.values.max()+1,len(x_train.columns))"
   ]
  },
  {
   "cell_type": "code",
   "execution_count": 11,
   "id": "e5f4a91a",
   "metadata": {},
   "outputs": [
    {
     "data": {
      "text/plain": [
       "[0.8783410138248833,\n",
       " 0.35652841781874045,\n",
       " 2.403686635944701,\n",
       " 0.9929339477726575,\n",
       " 0.019305019305019933,\n",
       " 0.2804375804375807,\n",
       " 0.33938223938223944,\n",
       " 0.06460746460746436,\n",
       " 0.7166023166023168,\n",
       " 0.018275418275418787,\n",
       " 1.6745173745173747,\n",
       " 0.7673101673101668]"
      ]
     },
     "execution_count": 11,
     "metadata": {},
     "output_type": "execute_result"
    }
   ],
   "source": [
    "dk_küme"
   ]
  },
  {
   "cell_type": "code",
   "execution_count": 12,
   "id": "e7d72496",
   "metadata": {},
   "outputs": [],
   "source": [
    "dk_küme=preprocessing.minmax_scale(dk_küme)"
   ]
  },
  {
   "cell_type": "code",
   "execution_count": 16,
   "id": "96694680",
   "metadata": {},
   "outputs": [
    {
     "data": {
      "text/plain": [
       "7.5"
      ]
     },
     "execution_count": 16,
     "metadata": {},
     "output_type": "execute_result"
    }
   ],
   "source": [
    "3/0.4"
   ]
  },
  {
   "cell_type": "code",
   "execution_count": 7,
   "id": "9e1b69ee",
   "metadata": {},
   "outputs": [],
   "source": [
    "dk_ytrain=np.zeros((y_train.values.max()+1,len(x_train.columns)))\n",
    "for j in range(y_train.values.max()+1):\n",
    "    for i in range(len(x_train.columns)):\n",
    "        dk_ytrain[j,i]=(array_k[j,i])/((x_train.iloc[:,i:i+1].values.max())-(x_train.iloc[:,i:i+1].values.min()))"
   ]
  },
  {
   "cell_type": "code",
   "execution_count": 8,
   "id": "f808dc1f",
   "metadata": {},
   "outputs": [
    {
     "data": {
      "text/plain": [
       "array([[0.25833559, 0.16205837, 0.42922976, 0.41372248],\n",
       "       [0.00567795, 0.12747163, 0.06060397, 0.02691978],\n",
       "       [0.21076539, 0.00830701, 0.29902096, 0.31971257]])"
      ]
     },
     "execution_count": 8,
     "metadata": {},
     "output_type": "execute_result"
    }
   ],
   "source": [
    "dk_ytrain"
   ]
  },
  {
   "cell_type": "code",
   "execution_count": 9,
   "id": "6f95fbb9",
   "metadata": {},
   "outputs": [],
   "source": [
    "timeb=[]\n",
    "for j in range(y_train.values.max()+1):\n",
    "    for i in range(len(x_train.columns)):\n",
    "        timeb.append(math.sqrt((küme[j].iloc[:,i:i+1].values.mean())**2))\n",
    "timeb=np.array(timeb)\n",
    "timeb=timeb.reshape((y_train.values.max()+1),len(x_train.columns))\n",
    "v_uzak=[]\n",
    "sonuc=[]\n",
    "toplamP=0    \n",
    "for j in range(len(x_test.count(1))):\n",
    "    for i in range(len(x_train.columns)):\n",
    "        for k in range(y_train.values.max()+1):\n",
    "            v_uzak.append((math.sqrt((math.sqrt(x_test.iloc[j:(j+1),i:(i+1)].values**2)-timeb[k,i])**2)))\n",
    "v2_uzak=[]\n",
    "v_uzak=np.array(v_uzak)\n",
    "v_uzak=v_uzak.reshape(int(len(v_uzak)/(y_train.values.max()+1)),(y_train.values.max()+1))"
   ]
  },
  {
   "cell_type": "code",
   "execution_count": 10,
   "id": "55205e35",
   "metadata": {},
   "outputs": [
    {
     "data": {
      "text/plain": [
       "array([[1.13548387e+00, 2.37837838e-01, 4.59459459e-01],\n",
       "       [5.61290323e-01, 7.56756757e-02, 1.86486486e-01],\n",
       "       [3.23225806e+00, 4.89189189e-01, 8.45945946e-01],\n",
       "       [9.54838710e-01, 1.02702703e-01, 8.05405405e-01],\n",
       "       [7.35483871e-01, 1.62162162e-01, 8.59459459e-01],\n",
       "       [4.38709677e-01, 1.07567568e+00, 8.13513514e-01],\n",
       "       [2.32258065e-01, 2.51081081e+00, 3.84594595e+00],\n",
       "       [5.48387097e-02, 1.00270270e+00, 1.70540541e+00],\n",
       "       [2.73548387e+00, 1.83783784e+00, 1.14054054e+00],\n",
       "       [7.61290323e-01, 1.24324324e-01, 3.86486486e-01],\n",
       "       [5.43225806e+00, 2.68918919e+00, 1.35405405e+00],\n",
       "       [2.05483871e+00, 9.97297297e-01, 2.94594595e-01],\n",
       "       [1.03548387e+00, 1.37837838e-01, 5.59459459e-01],\n",
       "       [4.61290323e-01, 1.75675676e-01, 8.64864865e-02],\n",
       "       [3.03225806e+00, 2.89189189e-01, 1.04594595e+00],\n",
       "       [1.25483871e+00, 1.97297297e-01, 5.05405405e-01],\n",
       "       [1.83548387e+00, 9.37837838e-01, 2.40540541e-01],\n",
       "       [5.61290323e-01, 7.56756757e-02, 1.86486486e-01],\n",
       "       [3.33225806e+00, 5.89189189e-01, 7.45945946e-01],\n",
       "       [1.15483871e+00, 9.72972973e-02, 6.05405405e-01],\n",
       "       [4.35483871e-01, 4.62162162e-01, 1.15945946e+00],\n",
       "       [3.87096774e-02, 6.75675676e-01, 4.13513514e-01],\n",
       "       [3.22580645e-02, 2.71081081e+00, 4.04594595e+00],\n",
       "       [1.54838710e-01, 9.02702703e-01, 1.60540541e+00],\n",
       "       [6.35483871e-01, 2.62162162e-01, 9.59459459e-01],\n",
       "       [4.61290323e-01, 1.75675676e-01, 8.64864865e-02],\n",
       "       [2.13225806e+00, 6.10810811e-01, 1.94594595e+00],\n",
       "       [1.05483871e+00, 2.70270270e-03, 7.05405405e-01],\n",
       "       [1.93548387e+00, 1.03783784e+00, 3.40540541e-01],\n",
       "       [2.61290323e-01, 3.75675676e-01, 1.13513514e-01],\n",
       "       [3.63225806e+00, 8.89189189e-01, 4.45945946e-01],\n",
       "       [2.05483871e+00, 9.97297297e-01, 2.94594595e-01],\n",
       "       [1.23548387e+00, 3.37837838e-01, 3.59459459e-01],\n",
       "       [1.16129032e+00, 5.24324324e-01, 7.86486486e-01],\n",
       "       [3.03225806e+00, 2.89189189e-01, 1.04594595e+00],\n",
       "       [1.25483871e+00, 1.97297297e-01, 5.05405405e-01],\n",
       "       [8.35483871e-01, 6.21621622e-02, 7.59459459e-01],\n",
       "       [6.61290323e-01, 2.43243243e-02, 2.86486486e-01],\n",
       "       [2.43225806e+00, 3.10810811e-01, 1.64594595e+00],\n",
       "       [9.54838710e-01, 1.02702703e-01, 8.05405405e-01],\n",
       "       [1.53548387e+00, 6.37837838e-01, 5.94594595e-02],\n",
       "       [1.61290323e-01, 4.75675676e-01, 2.13513514e-01],\n",
       "       [3.63225806e+00, 8.89189189e-01, 4.45945946e-01],\n",
       "       [1.75483871e+00, 6.97297297e-01, 5.40540541e-03],\n",
       "       [1.64516129e-01, 1.06216216e+00, 1.75945946e+00],\n",
       "       [3.61290323e-01, 2.75675676e-01, 1.35135135e-02],\n",
       "       [6.77419355e-02, 2.81081081e+00, 4.14594595e+00],\n",
       "       [1.45161290e-01, 1.20270270e+00, 1.90540541e+00],\n",
       "       [5.35483871e-01, 3.62162162e-01, 1.05945946e+00],\n",
       "       [1.38709677e-01, 7.75675676e-01, 5.13513514e-01],\n",
       "       [1.67741935e-01, 2.91081081e+00, 4.24594595e+00],\n",
       "       [4.51612903e-02, 1.10270270e+00, 1.80540541e+00],\n",
       "       [6.45161290e-02, 9.62162162e-01, 1.65945946e+00],\n",
       "       [2.61290323e-01, 3.75675676e-01, 1.13513514e-01],\n",
       "       [3.22580645e-02, 2.71081081e+00, 4.04594595e+00],\n",
       "       [1.45161290e-01, 1.20270270e+00, 1.90540541e+00],\n",
       "       [1.35483871e-01, 7.62162162e-01, 1.45945946e+00],\n",
       "       [4.38709677e-01, 1.07567568e+00, 8.13513514e-01],\n",
       "       [3.22580645e-02, 2.71081081e+00, 4.04594595e+00],\n",
       "       [5.48387097e-02, 1.00270270e+00, 1.70540541e+00],\n",
       "       [1.33548387e+00, 4.37837838e-01, 2.59459459e-01],\n",
       "       [6.12903226e-02, 5.75675676e-01, 3.13513514e-01],\n",
       "       [3.23225806e+00, 4.89189189e-01, 8.45945946e-01],\n",
       "       [1.35483871e+00, 2.97297297e-01, 4.05405405e-01],\n",
       "       [1.53548387e+00, 6.37837838e-01, 5.94594595e-02],\n",
       "       [3.61290323e-01, 2.75675676e-01, 1.35135135e-02],\n",
       "       [4.33225806e+00, 1.58918919e+00, 2.54054054e-01],\n",
       "       [1.95483871e+00, 8.97297297e-01, 1.94594595e-01],\n",
       "       [6.35483871e-01, 2.62162162e-01, 9.59459459e-01],\n",
       "       [8.61290323e-01, 2.24324324e-01, 4.86486486e-01],\n",
       "       [2.43225806e+00, 3.10810811e-01, 1.64594595e+00],\n",
       "       [8.54838710e-01, 2.02702703e-01, 9.05405405e-01],\n",
       "       [7.35483871e-01, 1.62162162e-01, 8.59459459e-01],\n",
       "       [5.61290323e-01, 7.56756757e-02, 1.86486486e-01],\n",
       "       [3.03225806e+00, 2.89189189e-01, 1.04594595e+00],\n",
       "       [1.05483871e+00, 2.70270270e-03, 7.05405405e-01],\n",
       "       [1.43548387e+00, 5.37837838e-01, 1.59459459e-01],\n",
       "       [5.61290323e-01, 7.56756757e-02, 1.86486486e-01],\n",
       "       [4.13225806e+00, 1.38918919e+00, 5.40540541e-02],\n",
       "       [1.95483871e+00, 8.97297297e-01, 1.94594595e-01],\n",
       "       [2.64516129e-01, 1.16216216e+00, 1.85945946e+00],\n",
       "       [1.61290323e-01, 4.75675676e-01, 2.13513514e-01],\n",
       "       [1.32258065e-01, 2.61081081e+00, 3.94594595e+00],\n",
       "       [4.51612903e-02, 1.10270270e+00, 1.80540541e+00],\n",
       "       [1.13548387e+00, 2.37837838e-01, 4.59459459e-01],\n",
       "       [3.61290323e-01, 2.75675676e-01, 1.35135135e-02],\n",
       "       [3.43225806e+00, 6.89189189e-01, 6.45945946e-01],\n",
       "       [1.55483871e+00, 4.97297297e-01, 2.05405405e-01],\n",
       "       [3.54838710e-02, 8.62162162e-01, 1.55945946e+00],\n",
       "       [3.87096774e-02, 6.75675676e-01, 4.13513514e-01],\n",
       "       [1.32258065e-01, 2.61081081e+00, 3.94594595e+00],\n",
       "       [1.54838710e-01, 9.02702703e-01, 1.60540541e+00],\n",
       "       [1.43548387e+00, 5.37837838e-01, 1.59459459e-01],\n",
       "       [5.61290323e-01, 7.56756757e-02, 1.86486486e-01],\n",
       "       [4.13225806e+00, 1.38918919e+00, 5.40540541e-02],\n",
       "       [1.85483871e+00, 7.97297297e-01, 9.45945946e-02],\n",
       "       [2.93548387e+00, 2.03783784e+00, 1.34054054e+00],\n",
       "       [4.38709677e-01, 1.07567568e+00, 8.13513514e-01],\n",
       "       [4.93225806e+00, 2.18918919e+00, 8.54054054e-01],\n",
       "       [1.75483871e+00, 6.97297297e-01, 5.40540541e-03],\n",
       "       [1.73548387e+00, 8.37837838e-01, 1.40540541e-01],\n",
       "       [3.61290323e-01, 2.75675676e-01, 1.35135135e-02],\n",
       "       [3.73225806e+00, 9.89189189e-01, 3.45945946e-01],\n",
       "       [2.05483871e+00, 9.97297297e-01, 2.94594595e-01],\n",
       "       [1.73548387e+00, 8.37837838e-01, 1.40540541e-01],\n",
       "       [8.61290323e-01, 2.24324324e-01, 4.86486486e-01],\n",
       "       [4.33225806e+00, 1.58918919e+00, 2.54054054e-01],\n",
       "       [1.55483871e+00, 4.97297297e-01, 2.05405405e-01],\n",
       "       [1.83548387e+00, 9.37837838e-01, 2.40540541e-01],\n",
       "       [1.61290323e-01, 4.75675676e-01, 2.13513514e-01],\n",
       "       [4.43225806e+00, 1.68918919e+00, 3.54054054e-01],\n",
       "       [2.05483871e+00, 9.97297297e-01, 2.94594595e-01],\n",
       "       [1.64516129e-01, 1.06216216e+00, 1.75945946e+00],\n",
       "       [3.61290323e-01, 2.75675676e-01, 1.35135135e-02],\n",
       "       [6.77419355e-02, 2.81081081e+00, 4.14594595e+00],\n",
       "       [5.48387097e-02, 1.00270270e+00, 1.70540541e+00],\n",
       "       [1.64516129e-01, 1.06216216e+00, 1.75945946e+00],\n",
       "       [2.61290323e-01, 3.75675676e-01, 1.13513514e-01],\n",
       "       [1.32258065e-01, 2.61081081e+00, 3.94594595e+00],\n",
       "       [4.51612903e-02, 1.10270270e+00, 1.80540541e+00],\n",
       "       [3.64516129e-01, 1.26216216e+00, 1.95945946e+00],\n",
       "       [2.38709677e-01, 8.75675676e-01, 6.13513514e-01],\n",
       "       [4.67741935e-01, 3.21081081e+00, 4.54594595e+00],\n",
       "       [4.51612903e-02, 1.10270270e+00, 1.80540541e+00],\n",
       "       [7.35483871e-01, 1.62162162e-01, 8.59459459e-01],\n",
       "       [1.03870968e+00, 1.67567568e+00, 1.41351351e+00],\n",
       "       [3.22580645e-02, 2.71081081e+00, 4.04594595e+00],\n",
       "       [1.54838710e-01, 9.02702703e-01, 1.60540541e+00],\n",
       "       [1.73548387e+00, 8.37837838e-01, 1.40540541e-01],\n",
       "       [2.61290323e-01, 3.75675676e-01, 1.13513514e-01],\n",
       "       [2.93225806e+00, 1.89189189e-01, 1.14594595e+00],\n",
       "       [1.15483871e+00, 9.72972973e-02, 6.05405405e-01],\n",
       "       [1.64516129e-01, 1.06216216e+00, 1.75945946e+00],\n",
       "       [3.87096774e-02, 6.75675676e-01, 4.13513514e-01],\n",
       "       [1.32258065e-01, 2.61081081e+00, 3.94594595e+00],\n",
       "       [4.51612903e-02, 1.10270270e+00, 1.80540541e+00],\n",
       "       [5.64516129e-01, 1.46216216e+00, 2.15945946e+00],\n",
       "       [1.61290323e-01, 4.75675676e-01, 2.13513514e-01],\n",
       "       [1.67741935e-01, 2.91081081e+00, 4.24594595e+00],\n",
       "       [4.51612903e-02, 1.10270270e+00, 1.80540541e+00],\n",
       "       [1.33548387e+00, 4.37837838e-01, 2.59459459e-01],\n",
       "       [8.61290323e-01, 2.24324324e-01, 4.86486486e-01],\n",
       "       [3.53225806e+00, 7.89189189e-01, 5.45945946e-01],\n",
       "       [1.65483871e+00, 5.97297297e-01, 1.05405405e-01],\n",
       "       [1.43548387e+00, 5.37837838e-01, 1.59459459e-01],\n",
       "       [1.61290323e-01, 4.75675676e-01, 2.13513514e-01],\n",
       "       [3.03225806e+00, 2.89189189e-01, 1.04594595e+00],\n",
       "       [1.25483871e+00, 1.97297297e-01, 5.05405405e-01],\n",
       "       [2.35483871e-01, 6.62162162e-01, 1.35945946e+00],\n",
       "       [1.38709677e-01, 7.75675676e-01, 5.13513514e-01],\n",
       "       [3.22580645e-02, 2.71081081e+00, 4.04594595e+00],\n",
       "       [4.51612903e-02, 1.10270270e+00, 1.80540541e+00],\n",
       "       [3.54838710e-02, 8.62162162e-01, 1.55945946e+00],\n",
       "       [2.38709677e-01, 8.75675676e-01, 6.13513514e-01],\n",
       "       [6.77419355e-02, 2.81081081e+00, 4.14594595e+00],\n",
       "       [4.51612903e-02, 1.10270270e+00, 1.80540541e+00],\n",
       "       [2.35483871e-01, 6.62162162e-01, 1.35945946e+00],\n",
       "       [7.38709677e-01, 1.37567568e+00, 1.11351351e+00],\n",
       "       [3.22580645e-02, 2.71081081e+00, 4.04594595e+00],\n",
       "       [1.45161290e-01, 1.20270270e+00, 1.90540541e+00],\n",
       "       [8.35483871e-01, 6.21621622e-02, 7.59459459e-01],\n",
       "       [6.61290323e-01, 2.43243243e-02, 2.86486486e-01],\n",
       "       [3.63225806e+00, 8.89189189e-01, 4.45945946e-01],\n",
       "       [1.65483871e+00, 5.97297297e-01, 1.05405405e-01],\n",
       "       [1.03548387e+00, 1.37837838e-01, 5.59459459e-01],\n",
       "       [3.87096774e-02, 6.75675676e-01, 4.13513514e-01],\n",
       "       [3.03225806e+00, 2.89189189e-01, 1.04594595e+00],\n",
       "       [1.35483871e+00, 2.97297297e-01, 4.05405405e-01],\n",
       "       [1.73548387e+00, 8.37837838e-01, 1.40540541e-01],\n",
       "       [2.61290323e-01, 3.75675676e-01, 1.13513514e-01],\n",
       "       [3.23225806e+00, 4.89189189e-01, 8.45945946e-01],\n",
       "       [1.25483871e+00, 1.97297297e-01, 5.05405405e-01],\n",
       "       [4.35483871e-01, 4.62162162e-01, 1.15945946e+00],\n",
       "       [5.38709677e-01, 1.17567568e+00, 9.13513514e-01],\n",
       "       [1.67741935e-01, 2.91081081e+00, 4.24594595e+00],\n",
       "       [1.54838710e-01, 9.02702703e-01, 1.60540541e+00],\n",
       "       [4.35483871e-01, 4.62162162e-01, 1.15945946e+00],\n",
       "       [3.38709677e-01, 9.75675676e-01, 7.13513514e-01],\n",
       "       [3.22580645e-02, 2.71081081e+00, 4.04594595e+00],\n",
       "       [4.51612903e-02, 1.10270270e+00, 1.80540541e+00]])"
      ]
     },
     "execution_count": 10,
     "metadata": {},
     "output_type": "execute_result"
    }
   ],
   "source": [
    "v_uzak"
   ]
  },
  {
   "cell_type": "code",
   "execution_count": 11,
   "id": "0a28c5fd",
   "metadata": {},
   "outputs": [],
   "source": [
    "tahmin=fit_predict(x_train,y_train,x_test)\n"
   ]
  },
  {
   "cell_type": "code",
   "execution_count": 12,
   "id": "91a14735",
   "metadata": {},
   "outputs": [
    {
     "data": {
      "text/plain": [
       "Text(0.5, 1.0, 'puanlama algoritma Classification')"
      ]
     },
     "execution_count": 12,
     "metadata": {},
     "output_type": "execute_result"
    },
    {
     "data": {
      "image/png": "[encoded data removed]",
      "text/plain": [
       "<Figure size 432x288 with 2 Axes>"
      ]
     },
     "metadata": {
      "needs_background": "light"
     },
     "output_type": "display_data"
    }
   ],
   "source": [
    "cm = confusion_matrix(y_test,tahmin)\n",
    "ax= plt.subplot()\n",
    "sns.heatmap(cm, annot=True, ax = ax, linewidths=0.5, cmap = 'Blues_r', fmt='d')\n",
    "ax.set_xlabel('Predicted labels')\n",
    "ax.set_ylabel('True labels')\n",
    "ax.set_title('puanlama algoritma Classification')"
   ]
  },
  {
   "cell_type": "code",
   "execution_count": 13,
   "id": "35e4ac3d",
   "metadata": {},
   "outputs": [
    {
     "data": {
      "text/plain": [
       "Text(0.5, 1.0, 'Lojistic Classification')"
      ]
     },
     "execution_count": 13,
     "metadata": {},
     "output_type": "execute_result"
    },
    {
     "data": {
      "image/png": "[encoded data removed]",
      "text/plain": [
       "<Figure size 432x288 with 2 Axes>"
      ]
     },
     "metadata": {
      "needs_background": "light"
     },
     "output_type": "display_data"
    }
   ],
   "source": [
    "from sklearn.linear_model import LogisticRegression\n",
    "from sklearn.metrics import confusion_matrix, precision_score, recall_score, precision_recall_curve,f1_score, roc_auc_score, roc_curve, plot_roc_curve\n",
    "from sklearn.ensemble import BaggingClassifier, RandomForestClassifier\n",
    "from sklearn.tree import DecisionTreeClassifier\n",
    "\n",
    "LR=LogisticRegression(solver=\"liblinear\",fit_intercept=True)\n",
    "results_LR = LR.fit(x_train, y_train)\n",
    "y_pred = LR.predict(x_test)\n",
    "cm = confusion_matrix(y_test,y_pred)\n",
    "ax= plt.subplot()\n",
    "sns.heatmap(cm, annot=True, ax = ax, linewidths=0.5, cmap = 'Blues_r', fmt='d')\n",
    "ax.set_xlabel('Predicted labels')\n",
    "ax.set_ylabel('True labels')\n",
    "ax.set_title('Lojistic Classification')"
   ]
  },
  {
   "cell_type": "code",
   "execution_count": null,
   "id": "18f1cb62",
   "metadata": {
    "scrolled": true
   },
   "outputs": [],
   "source": [
    "\n"
   ]
  },
  {
   "cell_type": "code",
   "execution_count": 14,
   "id": "4283338f",
   "metadata": {
    "scrolled": true
   },
   "outputs": [
    {
     "data": {
      "text/plain": [
       "Text(0.5, 1.0, 'Decision Tree Classification')"
      ]
     },
     "execution_count": 14,
     "metadata": {},
     "output_type": "execute_result"
    },
    {
     "data": {
      "image/png": "[encoded data removed]",
      "text/plain": [
       "<Figure size 432x288 with 2 Axes>"
      ]
     },
     "metadata": {
      "needs_background": "light"
     },
     "output_type": "display_data"
    }
   ],
   "source": [
    "kfold = model_selection.KFold(n_splits=10)\n",
    "cart = DecisionTreeClassifier()\n",
    "BG = BaggingClassifier(base_estimator=cart, n_estimators=100, random_state=7)\n",
    "results_BG = model_selection.cross_val_score(BG, x_train, y_train, cv=kfold)\n",
    "BG.fit(x_train, y_train)\n",
    "y_pred_BG = BG.predict(x_test)\n",
    "cm = confusion_matrix(y_test, y_pred_BG)\n",
    "ax= plt.subplot()\n",
    "sns.heatmap(cm, annot=True, ax = ax, linewidths=0.5, cmap = 'Blues_r', fmt='d')\n",
    "ax.set_xlabel('Predicted labels')\n",
    "ax.set_ylabel('True labels')\n",
    "ax.set_title('Decision Tree Classification')"
   ]
  },
  {
   "cell_type": "code",
   "execution_count": 15,
   "id": "40bddf39",
   "metadata": {},
   "outputs": [
    {
     "data": {
      "text/plain": [
       "Text(0.5, 1.0, 'Random Forest Classification')"
      ]
     },
     "execution_count": 15,
     "metadata": {},
     "output_type": "execute_result"
    },
    {
     "data": {
      "image/png": "[encoded data removed]",
      "text/plain": [
       "<Figure size 432x288 with 2 Axes>"
      ]
     },
     "metadata": {
      "needs_background": "light"
     },
     "output_type": "display_data"
    }
   ],
   "source": [
    "kfold = model_selection.KFold(n_splits=10)\n",
    "RF = RandomForestClassifier(n_estimators=100, max_features=3)\n",
    "results_RF = model_selection.cross_val_score(RF, x_train, y_train, cv=kfold)\n",
    "RF.fit(x_train, y_train)\n",
    "y_pred_RF = RF.predict(x_test)\n",
    "\n",
    "#Confusion matrix\n",
    "cm = confusion_matrix(y_test, y_pred_RF)\n",
    "ax= plt.subplot()\n",
    "sns.heatmap(cm, annot=True, ax = ax, linewidths=0.5, cmap = 'Blues_r', fmt='d')\n",
    "ax.set_xlabel('Predicted labels')\n",
    "ax.set_ylabel('True labels')\n",
    "ax.set_title('Random Forest Classification')\n"
   ]
  },
  {
   "cell_type": "code",
   "execution_count": 16,
   "id": "9b85c463",
   "metadata": {},
   "outputs": [],
   "source": [
    "df=pd.read_csv(\"heart.csv\")\n",
    "df=df.rename(columns={\"age\":\"yaş\",\"sex\":\"cinsiyet\",\"trestbps\":\"tansiyon\",\"chol\":\"kolestrol\",\"fbs\":\"A.kanşekeri\",\"restecg\":\"EKG\",\"thalach\":\"MaxNabız\",\"exang\":\"Anjin\",\"oldpeak\":\"STdep\",\"slope\":\"STegimi\",\"ca\":\"florosopi\",\"thal\":\"thal\",\"target\":\"KalpHast\"})\n",
    "x=df.loc[:,[\"yaş\",\"cinsiyet\",\"cp\",\"tansiyon\",\"kolestrol\",\"A.kanşekeri\",\"EKG\",\"MaxNabız\",\"Anjin\",\"STdep\",\"STegimi\",\"florosopi\",\"thal\"]]\n",
    "y=df[\"KalpHast\"]\n",
    "x_train,x_test,y_train,y_test=train_test_split(x,y,train_size=0.7,random_state=42)"
   ]
  },
  {
   "cell_type": "code",
   "execution_count": 17,
   "id": "b1470827",
   "metadata": {},
   "outputs": [],
   "source": [
    "tk=fit_predict(x_train,y_train,x_test)"
   ]
  },
  {
   "cell_type": "code",
   "execution_count": 18,
   "id": "e5df19e3",
   "metadata": {},
   "outputs": [
    {
     "data": {
      "text/plain": [
       "Text(0.5, 1.0, 'puanlama algoritma Classification')"
      ]
     },
     "execution_count": 18,
     "metadata": {},
     "output_type": "execute_result"
    },
    {
     "data": {
      "image/png": "[encoded data removed]",
      "text/plain": [
       "<Figure size 432x288 with 2 Axes>"
      ]
     },
     "metadata": {
      "needs_background": "light"
     },
     "output_type": "display_data"
    }
   ],
   "source": [
    "cm = confusion_matrix(y_test,tk)\n",
    "ax= plt.subplot()\n",
    "sns.heatmap(cm, annot=True, ax = ax, linewidths=0.5, cmap = 'Blues_r', fmt='d')\n",
    "ax.set_xlabel('Predicted labels')\n",
    "ax.set_ylabel('True labels')\n",
    "ax.set_title('puanlama algoritma Classification')"
   ]
  },
  {
   "cell_type": "code",
   "execution_count": 19,
   "id": "c8743415",
   "metadata": {},
   "outputs": [
    {
     "data": {
      "text/plain": [
       "Text(0.5, 1.0, 'Decision Tree Classification')"
      ]
     },
     "execution_count": 19,
     "metadata": {},
     "output_type": "execute_result"
    },
    {
     "data": {
      "image/png": "[encoded data removed]",
      "text/plain": [
       "<Figure size 432x288 with 2 Axes>"
      ]
     },
     "metadata": {
      "needs_background": "light"
     },
     "output_type": "display_data"
    }
   ],
   "source": [
    "kfold = model_selection.KFold(n_splits=10)\n",
    "cart = DecisionTreeClassifier()\n",
    "BG = BaggingClassifier(base_estimator=cart, n_estimators=100, random_state=7)\n",
    "results_BG = model_selection.cross_val_score(BG, x_train, y_train, cv=kfold)\n",
    "BG.fit(x_train, y_train)\n",
    "y_pred_BG = BG.predict(x_test)\n",
    "cm = confusion_matrix(y_test, y_pred_BG)\n",
    "ax= plt.subplot()\n",
    "sns.heatmap(cm, annot=True, ax = ax, linewidths=0.5, cmap = 'Blues_r', fmt='d')\n",
    "ax.set_xlabel('Predicted labels')\n",
    "ax.set_ylabel('True labels')\n",
    "ax.set_title('Decision Tree Classification')"
   ]
  },
  {
   "cell_type": "code",
   "execution_count": 20,
   "id": "7d3fc492",
   "metadata": {},
   "outputs": [
    {
     "data": {
      "text/plain": [
       "Text(0.5, 1.0, 'Lojistic Classification')"
      ]
     },
     "execution_count": 20,
     "metadata": {},
     "output_type": "execute_result"
    },
    {
     "data": {
      "image/png": "[encoded data removed]",
      "text/plain": [
       "<Figure size 432x288 with 2 Axes>"
      ]
     },
     "metadata": {
      "needs_background": "light"
     },
     "output_type": "display_data"
    }
   ],
   "source": [
    "\n",
    "LR=LogisticRegression(solver=\"liblinear\",fit_intercept=True)\n",
    "results_LR = LR.fit(x_train, y_train)\n",
    "y_pred = LR.predict(x_test)\n",
    "cm = confusion_matrix(y_test,y_pred)\n",
    "ax= plt.subplot()\n",
    "sns.heatmap(cm, annot=True, ax = ax, linewidths=0.5, cmap = 'Blues_r', fmt='d')\n",
    "ax.set_xlabel('Predicted labels')\n",
    "ax.set_ylabel('True labels')\n",
    "ax.set_title('Lojistic Classification')"
   ]
  },
  {
   "cell_type": "code",
   "execution_count": 21,
   "id": "8c51fe90",
   "metadata": {},
   "outputs": [
    {
     "name": "stdout",
     "output_type": "stream",
     "text": [
      "Test accuracy: 0.8241758241758241\n",
      "Precision:0.8400, Recall:0.8400, F1:0.8400\n",
      "CV Accuracy 0.8315053763440861\n"
     ]
    },
    {
     "data": {
      "text/plain": [
       "[Text(0, 0.5, 'not-cardiac'), Text(0, 1.5, 'cardiac')]"
      ]
     },
     "execution_count": 21,
     "metadata": {},
     "output_type": "execute_result"
    },
    {
     "data": {
      "image/png": "[encoded data removed]",
      "text/plain": [
       "<Figure size 432x288 with 2 Axes>"
      ]
     },
     "metadata": {
      "needs_background": "light"
     },
     "output_type": "display_data"
    }
   ],
   "source": [
    "kfold = model_selection.KFold(n_splits=10)\n",
    "RF = RandomForestClassifier(n_estimators=100, max_features=3)\n",
    "results_RF = model_selection.cross_val_score(RF, x_train, y_train, cv=kfold)\n",
    "RF.fit(x_train, y_train)\n",
    "y_pred_RF = RF.predict(x_test)\n",
    "print('Test accuracy:', RF.score(x_test, y_test))\n",
    "print('Precision:{:6.4f}, Recall:{:6.4f}, F1:{:6.4f}'.format(precision_score(y_test, y_pred_RF),\n",
    "recall_score(y_test, y_pred_RF), f1_score(y_test, y_pred_RF)))\n",
    "CV_scores_RF = cross_val_score(RF, x, y, cv=10)\n",
    "print('CV Accuracy', statistics.mean(CV_scores_RF))\n",
    "#Confusion matrix\n",
    "cm = confusion_matrix(y_test, y_pred_RF)\n",
    "ax= plt.subplot()\n",
    "sns.heatmap(cm, annot=True, ax = ax, linewidths=0.5, cmap = 'Blues_r', fmt='d')\n",
    "ax.set_xlabel('Predicted labels')\n",
    "ax.set_ylabel('True labels')\n",
    "ax.set_title('Random Forest Classification')\n",
    "ax.xaxis.set_ticklabels(['not-cardiac', 'cardiac'])\n",
    "ax.yaxis.set_ticklabels(['not-cardiac', 'cardiac'])"
   ]
  },
  {
   "cell_type": "code",
   "execution_count": null,
   "id": "33a904e7",
   "metadata": {},
   "outputs": [],
   "source": []
  }
 ],
 "metadata": {
  "kernelspec": {
   "display_name": "Python 3",
   "language": "python",
   "name": "python3"
  },
  "language_info": {
   "codemirror_mode": {
    "name": "ipython",
    "version": 3
   },
   "file_extension": ".py",
   "mimetype": "text/x-python",
   "name": "python",
   "nbconvert_exporter": "python",
   "pygments_lexer": "ipython3",
   "version": "3.8.8"
  }
 },
 "nbformat": 4,
 "nbformat_minor": 5
}
