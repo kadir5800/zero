{
 "cells": [
  {
   "cell_type": "code",
   "execution_count": 1,
   "metadata": {},
   "outputs": [],
   "source": [
    "import numpy as np\n",
    "import pandas as pd\n",
    "import seaborn as sns\n",
    "import matplotlib.pyplot as plt\n",
    "%matplotlib inline"
   ]
  },
  {
   "cell_type": "code",
   "execution_count": 2,
   "metadata": {},
   "outputs": [
    {
     "name": "stdout",
     "output_type": "stream",
     "text": [
      "<class 'pandas.core.frame.DataFrame'>\n",
      "RangeIndex: 161 entries, 0 to 160\n",
      "Data columns (total 5 columns):\n",
      " #   Column     Non-Null Count  Dtype  \n",
      "---  ------     --------------  -----  \n",
      " 0   date       161 non-null    object \n",
      " 1   test       161 non-null    int64  \n",
      " 2   case       161 non-null    int64  \n",
      " 3   death      157 non-null    float64\n",
      " 4   recovered  148 non-null    float64\n",
      "dtypes: float64(2), int64(2), object(1)\n",
      "memory usage: 6.4+ KB\n"
     ]
    }
   ],
   "source": [
    "df=pd.read_csv(\"data.csv\")\n",
    "df.info()"
   ]
  },
  {
   "cell_type": "code",
   "execution_count": 3,
   "metadata": {
    "scrolled": false
   },
   "outputs": [
    {
     "data": {
      "text/html": [
       "<div>\n",
       "<style scoped>\n",
       "    .dataframe tbody tr th:only-of-type {\n",
       "        vertical-align: middle;\n",
       "    }\n",
       "\n",
       "    .dataframe tbody tr th {\n",
       "        vertical-align: top;\n",
       "    }\n",
       "\n",
       "    .dataframe thead th {\n",
       "        text-align: right;\n",
       "    }\n",
       "</style>\n",
       "<table border=\"1\" class=\"dataframe\">\n",
       "  <thead>\n",
       "    <tr style=\"text-align: right;\">\n",
       "      <th></th>\n",
       "      <th>date</th>\n",
       "      <th>test</th>\n",
       "      <th>case</th>\n",
       "      <th>death</th>\n",
       "      <th>recovered</th>\n",
       "      <th>Gün</th>\n",
       "      <th>Ay</th>\n",
       "      <th>Yıl</th>\n",
       "      <th>Haftanın_günü</th>\n",
       "      <th>GünIsmi</th>\n",
       "    </tr>\n",
       "  </thead>\n",
       "  <tbody>\n",
       "    <tr>\n",
       "      <th>0</th>\n",
       "      <td>2020-03-13</td>\n",
       "      <td>0</td>\n",
       "      <td>5</td>\n",
       "      <td>NaN</td>\n",
       "      <td>NaN</td>\n",
       "      <td>13</td>\n",
       "      <td>3</td>\n",
       "      <td>2020</td>\n",
       "      <td>4</td>\n",
       "      <td>Friday</td>\n",
       "    </tr>\n",
       "    <tr>\n",
       "      <th>1</th>\n",
       "      <td>2020-03-14</td>\n",
       "      <td>0</td>\n",
       "      <td>6</td>\n",
       "      <td>NaN</td>\n",
       "      <td>NaN</td>\n",
       "      <td>14</td>\n",
       "      <td>3</td>\n",
       "      <td>2020</td>\n",
       "      <td>5</td>\n",
       "      <td>Saturday</td>\n",
       "    </tr>\n",
       "    <tr>\n",
       "      <th>2</th>\n",
       "      <td>2020-03-15</td>\n",
       "      <td>0</td>\n",
       "      <td>7</td>\n",
       "      <td>NaN</td>\n",
       "      <td>NaN</td>\n",
       "      <td>15</td>\n",
       "      <td>3</td>\n",
       "      <td>2020</td>\n",
       "      <td>6</td>\n",
       "      <td>Sunday</td>\n",
       "    </tr>\n",
       "    <tr>\n",
       "      <th>3</th>\n",
       "      <td>2020-03-16</td>\n",
       "      <td>0</td>\n",
       "      <td>31</td>\n",
       "      <td>NaN</td>\n",
       "      <td>NaN</td>\n",
       "      <td>16</td>\n",
       "      <td>3</td>\n",
       "      <td>2020</td>\n",
       "      <td>0</td>\n",
       "      <td>Monday</td>\n",
       "    </tr>\n",
       "    <tr>\n",
       "      <th>4</th>\n",
       "      <td>2020-03-17</td>\n",
       "      <td>0</td>\n",
       "      <td>49</td>\n",
       "      <td>1.0</td>\n",
       "      <td>NaN</td>\n",
       "      <td>17</td>\n",
       "      <td>3</td>\n",
       "      <td>2020</td>\n",
       "      <td>1</td>\n",
       "      <td>Tuesday</td>\n",
       "    </tr>\n",
       "    <tr>\n",
       "      <th>...</th>\n",
       "      <td>...</td>\n",
       "      <td>...</td>\n",
       "      <td>...</td>\n",
       "      <td>...</td>\n",
       "      <td>...</td>\n",
       "      <td>...</td>\n",
       "      <td>...</td>\n",
       "      <td>...</td>\n",
       "      <td>...</td>\n",
       "      <td>...</td>\n",
       "    </tr>\n",
       "    <tr>\n",
       "      <th>156</th>\n",
       "      <td>2020-08-16</td>\n",
       "      <td>65956</td>\n",
       "      <td>1192</td>\n",
       "      <td>19.0</td>\n",
       "      <td>997.0</td>\n",
       "      <td>16</td>\n",
       "      <td>8</td>\n",
       "      <td>2020</td>\n",
       "      <td>6</td>\n",
       "      <td>Sunday</td>\n",
       "    </tr>\n",
       "    <tr>\n",
       "      <th>157</th>\n",
       "      <td>2020-08-17</td>\n",
       "      <td>74846</td>\n",
       "      <td>1233</td>\n",
       "      <td>22.0</td>\n",
       "      <td>1002.0</td>\n",
       "      <td>17</td>\n",
       "      <td>8</td>\n",
       "      <td>2020</td>\n",
       "      <td>0</td>\n",
       "      <td>Monday</td>\n",
       "    </tr>\n",
       "    <tr>\n",
       "      <th>158</th>\n",
       "      <td>2020-08-18</td>\n",
       "      <td>82318</td>\n",
       "      <td>1263</td>\n",
       "      <td>20.0</td>\n",
       "      <td>942.0</td>\n",
       "      <td>18</td>\n",
       "      <td>8</td>\n",
       "      <td>2020</td>\n",
       "      <td>1</td>\n",
       "      <td>Tuesday</td>\n",
       "    </tr>\n",
       "    <tr>\n",
       "      <th>159</th>\n",
       "      <td>2020-08-19</td>\n",
       "      <td>87223</td>\n",
       "      <td>1303</td>\n",
       "      <td>23.0</td>\n",
       "      <td>1002.0</td>\n",
       "      <td>19</td>\n",
       "      <td>8</td>\n",
       "      <td>2020</td>\n",
       "      <td>2</td>\n",
       "      <td>Wednesday</td>\n",
       "    </tr>\n",
       "    <tr>\n",
       "      <th>160</th>\n",
       "      <td>2020-08-20</td>\n",
       "      <td>92301</td>\n",
       "      <td>1412</td>\n",
       "      <td>19.0</td>\n",
       "      <td>882.0</td>\n",
       "      <td>20</td>\n",
       "      <td>8</td>\n",
       "      <td>2020</td>\n",
       "      <td>3</td>\n",
       "      <td>Thursday</td>\n",
       "    </tr>\n",
       "  </tbody>\n",
       "</table>\n",
       "<p>161 rows × 10 columns</p>\n",
       "</div>"
      ],
      "text/plain": [
       "          date   test  case  death  recovered  Gün  Ay   Yıl  Haftanın_günü  \\\n",
       "0   2020-03-13      0     5    NaN        NaN   13   3  2020              4   \n",
       "1   2020-03-14      0     6    NaN        NaN   14   3  2020              5   \n",
       "2   2020-03-15      0     7    NaN        NaN   15   3  2020              6   \n",
       "3   2020-03-16      0    31    NaN        NaN   16   3  2020              0   \n",
       "4   2020-03-17      0    49    1.0        NaN   17   3  2020              1   \n",
       "..         ...    ...   ...    ...        ...  ...  ..   ...            ...   \n",
       "156 2020-08-16  65956  1192   19.0      997.0   16   8  2020              6   \n",
       "157 2020-08-17  74846  1233   22.0     1002.0   17   8  2020              0   \n",
       "158 2020-08-18  82318  1263   20.0      942.0   18   8  2020              1   \n",
       "159 2020-08-19  87223  1303   23.0     1002.0   19   8  2020              2   \n",
       "160 2020-08-20  92301  1412   19.0      882.0   20   8  2020              3   \n",
       "\n",
       "       GünIsmi  \n",
       "0       Friday  \n",
       "1     Saturday  \n",
       "2       Sunday  \n",
       "3       Monday  \n",
       "4      Tuesday  \n",
       "..         ...  \n",
       "156     Sunday  \n",
       "157     Monday  \n",
       "158    Tuesday  \n",
       "159  Wednesday  \n",
       "160   Thursday  \n",
       "\n",
       "[161 rows x 10 columns]"
      ]
     },
     "execution_count": 3,
     "metadata": {},
     "output_type": "execute_result"
    }
   ],
   "source": [
    "df.date=df.date.apply(pd.to_datetime)\n",
    "df[\"Gün\"]=df.date.dt.day\n",
    "df[\"Ay\"]=df.date.dt.month\n",
    "df[\"Yıl\"]=df.date.dt.year\n",
    "df[\"Haftanın_günü\"] = df.date.dt.dayofweek\n",
    "df[\"GünIsmi\"]=df.date.dt.day_name()\n",
    "df"
   ]
  },
  {
   "cell_type": "code",
   "execution_count": 4,
   "metadata": {},
   "outputs": [],
   "source": [
    "ydf=df.rename(columns={\"date\":\"Tarih\",\"case\":\"Hasta\",\"death\":\"Ölüm\",\"recovered\":\"Kurtarılan\",\"test\":\"Test\"})"
   ]
  },
  {
   "cell_type": "code",
   "execution_count": 5,
   "metadata": {
    "scrolled": true
   },
   "outputs": [
    {
     "data": {
      "text/plain": [
       "Tarih             0\n",
       "Test              0\n",
       "Hasta             0\n",
       "Ölüm              4\n",
       "Kurtarılan       13\n",
       "Gün               0\n",
       "Ay                0\n",
       "Yıl               0\n",
       "Haftanın_günü     0\n",
       "GünIsmi           0\n",
       "dtype: int64"
      ]
     },
     "execution_count": 5,
     "metadata": {},
     "output_type": "execute_result"
    }
   ],
   "source": [
    "ydf.isna().sum()"
   ]
  },
  {
   "cell_type": "code",
   "execution_count": 6,
   "metadata": {
    "scrolled": false
   },
   "outputs": [
    {
     "data": {
      "text/html": [
       "<div>\n",
       "<style scoped>\n",
       "    .dataframe tbody tr th:only-of-type {\n",
       "        vertical-align: middle;\n",
       "    }\n",
       "\n",
       "    .dataframe tbody tr th {\n",
       "        vertical-align: top;\n",
       "    }\n",
       "\n",
       "    .dataframe thead th {\n",
       "        text-align: right;\n",
       "    }\n",
       "</style>\n",
       "<table border=\"1\" class=\"dataframe\">\n",
       "  <thead>\n",
       "    <tr style=\"text-align: right;\">\n",
       "      <th></th>\n",
       "      <th>Tarih</th>\n",
       "      <th>Test</th>\n",
       "      <th>Hasta</th>\n",
       "      <th>Ölüm</th>\n",
       "      <th>Kurtarılan</th>\n",
       "      <th>Gün</th>\n",
       "      <th>Ay</th>\n",
       "      <th>Yıl</th>\n",
       "      <th>Haftanın_günü</th>\n",
       "      <th>GünIsmi</th>\n",
       "    </tr>\n",
       "  </thead>\n",
       "  <tbody>\n",
       "    <tr>\n",
       "      <th>0</th>\n",
       "      <td>2020-03-13</td>\n",
       "      <td>0</td>\n",
       "      <td>5</td>\n",
       "      <td>NaN</td>\n",
       "      <td>NaN</td>\n",
       "      <td>13</td>\n",
       "      <td>3</td>\n",
       "      <td>2020</td>\n",
       "      <td>4</td>\n",
       "      <td>Friday</td>\n",
       "    </tr>\n",
       "    <tr>\n",
       "      <th>1</th>\n",
       "      <td>2020-03-14</td>\n",
       "      <td>0</td>\n",
       "      <td>6</td>\n",
       "      <td>NaN</td>\n",
       "      <td>NaN</td>\n",
       "      <td>14</td>\n",
       "      <td>3</td>\n",
       "      <td>2020</td>\n",
       "      <td>5</td>\n",
       "      <td>Saturday</td>\n",
       "    </tr>\n",
       "    <tr>\n",
       "      <th>2</th>\n",
       "      <td>2020-03-15</td>\n",
       "      <td>0</td>\n",
       "      <td>7</td>\n",
       "      <td>NaN</td>\n",
       "      <td>NaN</td>\n",
       "      <td>15</td>\n",
       "      <td>3</td>\n",
       "      <td>2020</td>\n",
       "      <td>6</td>\n",
       "      <td>Sunday</td>\n",
       "    </tr>\n",
       "    <tr>\n",
       "      <th>3</th>\n",
       "      <td>2020-03-16</td>\n",
       "      <td>0</td>\n",
       "      <td>31</td>\n",
       "      <td>NaN</td>\n",
       "      <td>NaN</td>\n",
       "      <td>16</td>\n",
       "      <td>3</td>\n",
       "      <td>2020</td>\n",
       "      <td>0</td>\n",
       "      <td>Monday</td>\n",
       "    </tr>\n",
       "    <tr>\n",
       "      <th>4</th>\n",
       "      <td>2020-03-17</td>\n",
       "      <td>0</td>\n",
       "      <td>49</td>\n",
       "      <td>1.0</td>\n",
       "      <td>NaN</td>\n",
       "      <td>17</td>\n",
       "      <td>3</td>\n",
       "      <td>2020</td>\n",
       "      <td>1</td>\n",
       "      <td>Tuesday</td>\n",
       "    </tr>\n",
       "    <tr>\n",
       "      <th>5</th>\n",
       "      <td>2020-03-18</td>\n",
       "      <td>0</td>\n",
       "      <td>93</td>\n",
       "      <td>1.0</td>\n",
       "      <td>NaN</td>\n",
       "      <td>18</td>\n",
       "      <td>3</td>\n",
       "      <td>2020</td>\n",
       "      <td>2</td>\n",
       "      <td>Wednesday</td>\n",
       "    </tr>\n",
       "    <tr>\n",
       "      <th>6</th>\n",
       "      <td>2020-03-19</td>\n",
       "      <td>1981</td>\n",
       "      <td>168</td>\n",
       "      <td>2.0</td>\n",
       "      <td>NaN</td>\n",
       "      <td>19</td>\n",
       "      <td>3</td>\n",
       "      <td>2020</td>\n",
       "      <td>3</td>\n",
       "      <td>Thursday</td>\n",
       "    </tr>\n",
       "    <tr>\n",
       "      <th>7</th>\n",
       "      <td>2020-03-20</td>\n",
       "      <td>3656</td>\n",
       "      <td>311</td>\n",
       "      <td>5.0</td>\n",
       "      <td>NaN</td>\n",
       "      <td>20</td>\n",
       "      <td>3</td>\n",
       "      <td>2020</td>\n",
       "      <td>4</td>\n",
       "      <td>Friday</td>\n",
       "    </tr>\n",
       "    <tr>\n",
       "      <th>8</th>\n",
       "      <td>2020-03-21</td>\n",
       "      <td>2970</td>\n",
       "      <td>277</td>\n",
       "      <td>12.0</td>\n",
       "      <td>NaN</td>\n",
       "      <td>21</td>\n",
       "      <td>3</td>\n",
       "      <td>2020</td>\n",
       "      <td>5</td>\n",
       "      <td>Saturday</td>\n",
       "    </tr>\n",
       "    <tr>\n",
       "      <th>9</th>\n",
       "      <td>2020-03-22</td>\n",
       "      <td>1738</td>\n",
       "      <td>289</td>\n",
       "      <td>9.0</td>\n",
       "      <td>NaN</td>\n",
       "      <td>22</td>\n",
       "      <td>3</td>\n",
       "      <td>2020</td>\n",
       "      <td>6</td>\n",
       "      <td>Sunday</td>\n",
       "    </tr>\n",
       "    <tr>\n",
       "      <th>10</th>\n",
       "      <td>2020-03-23</td>\n",
       "      <td>3672</td>\n",
       "      <td>293</td>\n",
       "      <td>7.0</td>\n",
       "      <td>NaN</td>\n",
       "      <td>23</td>\n",
       "      <td>3</td>\n",
       "      <td>2020</td>\n",
       "      <td>0</td>\n",
       "      <td>Monday</td>\n",
       "    </tr>\n",
       "    <tr>\n",
       "      <th>11</th>\n",
       "      <td>2020-03-24</td>\n",
       "      <td>3952</td>\n",
       "      <td>343</td>\n",
       "      <td>7.0</td>\n",
       "      <td>26.0</td>\n",
       "      <td>24</td>\n",
       "      <td>3</td>\n",
       "      <td>2020</td>\n",
       "      <td>1</td>\n",
       "      <td>Tuesday</td>\n",
       "    </tr>\n",
       "    <tr>\n",
       "      <th>12</th>\n",
       "      <td>2020-03-25</td>\n",
       "      <td>5035</td>\n",
       "      <td>561</td>\n",
       "      <td>15.0</td>\n",
       "      <td>NaN</td>\n",
       "      <td>25</td>\n",
       "      <td>3</td>\n",
       "      <td>2020</td>\n",
       "      <td>2</td>\n",
       "      <td>Wednesday</td>\n",
       "    </tr>\n",
       "    <tr>\n",
       "      <th>13</th>\n",
       "      <td>2020-03-26</td>\n",
       "      <td>7286</td>\n",
       "      <td>1196</td>\n",
       "      <td>16.0</td>\n",
       "      <td>NaN</td>\n",
       "      <td>26</td>\n",
       "      <td>3</td>\n",
       "      <td>2020</td>\n",
       "      <td>3</td>\n",
       "      <td>Thursday</td>\n",
       "    </tr>\n",
       "    <tr>\n",
       "      <th>14</th>\n",
       "      <td>2020-03-27</td>\n",
       "      <td>7533</td>\n",
       "      <td>2069</td>\n",
       "      <td>17.0</td>\n",
       "      <td>16.0</td>\n",
       "      <td>27</td>\n",
       "      <td>3</td>\n",
       "      <td>2020</td>\n",
       "      <td>4</td>\n",
       "      <td>Friday</td>\n",
       "    </tr>\n",
       "    <tr>\n",
       "      <th>15</th>\n",
       "      <td>2020-03-28</td>\n",
       "      <td>7641</td>\n",
       "      <td>1704</td>\n",
       "      <td>16.0</td>\n",
       "      <td>28.0</td>\n",
       "      <td>28</td>\n",
       "      <td>3</td>\n",
       "      <td>2020</td>\n",
       "      <td>5</td>\n",
       "      <td>Saturday</td>\n",
       "    </tr>\n",
       "    <tr>\n",
       "      <th>16</th>\n",
       "      <td>2020-03-29</td>\n",
       "      <td>9982</td>\n",
       "      <td>1815</td>\n",
       "      <td>23.0</td>\n",
       "      <td>35.0</td>\n",
       "      <td>29</td>\n",
       "      <td>3</td>\n",
       "      <td>2020</td>\n",
       "      <td>6</td>\n",
       "      <td>Sunday</td>\n",
       "    </tr>\n",
       "    <tr>\n",
       "      <th>17</th>\n",
       "      <td>2020-03-30</td>\n",
       "      <td>11535</td>\n",
       "      <td>1610</td>\n",
       "      <td>37.0</td>\n",
       "      <td>57.0</td>\n",
       "      <td>30</td>\n",
       "      <td>3</td>\n",
       "      <td>2020</td>\n",
       "      <td>0</td>\n",
       "      <td>Monday</td>\n",
       "    </tr>\n",
       "    <tr>\n",
       "      <th>18</th>\n",
       "      <td>2020-03-31</td>\n",
       "      <td>15422</td>\n",
       "      <td>2704</td>\n",
       "      <td>46.0</td>\n",
       "      <td>81.0</td>\n",
       "      <td>31</td>\n",
       "      <td>3</td>\n",
       "      <td>2020</td>\n",
       "      <td>1</td>\n",
       "      <td>Tuesday</td>\n",
       "    </tr>\n",
       "    <tr>\n",
       "      <th>19</th>\n",
       "      <td>2020-04-01</td>\n",
       "      <td>14396</td>\n",
       "      <td>2148</td>\n",
       "      <td>63.0</td>\n",
       "      <td>90.0</td>\n",
       "      <td>1</td>\n",
       "      <td>4</td>\n",
       "      <td>2020</td>\n",
       "      <td>2</td>\n",
       "      <td>Wednesday</td>\n",
       "    </tr>\n",
       "  </tbody>\n",
       "</table>\n",
       "</div>"
      ],
      "text/plain": [
       "        Tarih   Test  Hasta  Ölüm  Kurtarılan  Gün  Ay   Yıl  Haftanın_günü  \\\n",
       "0  2020-03-13      0      5   NaN         NaN   13   3  2020              4   \n",
       "1  2020-03-14      0      6   NaN         NaN   14   3  2020              5   \n",
       "2  2020-03-15      0      7   NaN         NaN   15   3  2020              6   \n",
       "3  2020-03-16      0     31   NaN         NaN   16   3  2020              0   \n",
       "4  2020-03-17      0     49   1.0         NaN   17   3  2020              1   \n",
       "5  2020-03-18      0     93   1.0         NaN   18   3  2020              2   \n",
       "6  2020-03-19   1981    168   2.0         NaN   19   3  2020              3   \n",
       "7  2020-03-20   3656    311   5.0         NaN   20   3  2020              4   \n",
       "8  2020-03-21   2970    277  12.0         NaN   21   3  2020              5   \n",
       "9  2020-03-22   1738    289   9.0         NaN   22   3  2020              6   \n",
       "10 2020-03-23   3672    293   7.0         NaN   23   3  2020              0   \n",
       "11 2020-03-24   3952    343   7.0        26.0   24   3  2020              1   \n",
       "12 2020-03-25   5035    561  15.0         NaN   25   3  2020              2   \n",
       "13 2020-03-26   7286   1196  16.0         NaN   26   3  2020              3   \n",
       "14 2020-03-27   7533   2069  17.0        16.0   27   3  2020              4   \n",
       "15 2020-03-28   7641   1704  16.0        28.0   28   3  2020              5   \n",
       "16 2020-03-29   9982   1815  23.0        35.0   29   3  2020              6   \n",
       "17 2020-03-30  11535   1610  37.0        57.0   30   3  2020              0   \n",
       "18 2020-03-31  15422   2704  46.0        81.0   31   3  2020              1   \n",
       "19 2020-04-01  14396   2148  63.0        90.0    1   4  2020              2   \n",
       "\n",
       "      GünIsmi  \n",
       "0      Friday  \n",
       "1    Saturday  \n",
       "2      Sunday  \n",
       "3      Monday  \n",
       "4     Tuesday  \n",
       "5   Wednesday  \n",
       "6    Thursday  \n",
       "7      Friday  \n",
       "8    Saturday  \n",
       "9      Sunday  \n",
       "10     Monday  \n",
       "11    Tuesday  \n",
       "12  Wednesday  \n",
       "13   Thursday  \n",
       "14     Friday  \n",
       "15   Saturday  \n",
       "16     Sunday  \n",
       "17     Monday  \n",
       "18    Tuesday  \n",
       "19  Wednesday  "
      ]
     },
     "execution_count": 6,
     "metadata": {},
     "output_type": "execute_result"
    }
   ],
   "source": [
    "ydf.head(20)"
   ]
  },
  {
   "cell_type": "code",
   "execution_count": 7,
   "metadata": {
    "scrolled": false
   },
   "outputs": [
    {
     "data": {
      "text/plain": [
       "<bound method DataFrame.info of          Tarih   Test  Hasta  Ölüm  Kurtarılan  Gün  Ay   Yıl  Haftanın_günü  \\\n",
       "0   2020-03-13      0      5   NaN         NaN   13   3  2020              4   \n",
       "1   2020-03-14      0      6   NaN         NaN   14   3  2020              5   \n",
       "2   2020-03-15      0      7   NaN         NaN   15   3  2020              6   \n",
       "3   2020-03-16      0     31   NaN         NaN   16   3  2020              0   \n",
       "4   2020-03-17      0     49   1.0         NaN   17   3  2020              1   \n",
       "..         ...    ...    ...   ...         ...  ...  ..   ...            ...   \n",
       "156 2020-08-16  65956   1192  19.0       997.0   16   8  2020              6   \n",
       "157 2020-08-17  74846   1233  22.0      1002.0   17   8  2020              0   \n",
       "158 2020-08-18  82318   1263  20.0       942.0   18   8  2020              1   \n",
       "159 2020-08-19  87223   1303  23.0      1002.0   19   8  2020              2   \n",
       "160 2020-08-20  92301   1412  19.0       882.0   20   8  2020              3   \n",
       "\n",
       "       GünIsmi  \n",
       "0       Friday  \n",
       "1     Saturday  \n",
       "2       Sunday  \n",
       "3       Monday  \n",
       "4      Tuesday  \n",
       "..         ...  \n",
       "156     Sunday  \n",
       "157     Monday  \n",
       "158    Tuesday  \n",
       "159  Wednesday  \n",
       "160   Thursday  \n",
       "\n",
       "[161 rows x 10 columns]>"
      ]
     },
     "execution_count": 7,
     "metadata": {},
     "output_type": "execute_result"
    }
   ],
   "source": [
    "ydf.info"
   ]
  },
  {
   "cell_type": "code",
   "execution_count": 8,
   "metadata": {},
   "outputs": [],
   "source": [
    "ydf=ydf.fillna(0)"
   ]
  },
  {
   "cell_type": "code",
   "execution_count": 9,
   "metadata": {
    "scrolled": true
   },
   "outputs": [
    {
     "data": {
      "text/html": [
       "<div>\n",
       "<style scoped>\n",
       "    .dataframe tbody tr th:only-of-type {\n",
       "        vertical-align: middle;\n",
       "    }\n",
       "\n",
       "    .dataframe tbody tr th {\n",
       "        vertical-align: top;\n",
       "    }\n",
       "\n",
       "    .dataframe thead th {\n",
       "        text-align: right;\n",
       "    }\n",
       "</style>\n",
       "<table border=\"1\" class=\"dataframe\">\n",
       "  <thead>\n",
       "    <tr style=\"text-align: right;\">\n",
       "      <th></th>\n",
       "      <th>Test</th>\n",
       "      <th>Hasta</th>\n",
       "      <th>Ölüm</th>\n",
       "      <th>Kurtarılan</th>\n",
       "      <th>Gün</th>\n",
       "      <th>Ay</th>\n",
       "      <th>Yıl</th>\n",
       "      <th>Haftanın_günü</th>\n",
       "    </tr>\n",
       "  </thead>\n",
       "  <tbody>\n",
       "    <tr>\n",
       "      <th>count</th>\n",
       "      <td>161.000000</td>\n",
       "      <td>161.000000</td>\n",
       "      <td>161.000000</td>\n",
       "      <td>161.000000</td>\n",
       "      <td>161.000000</td>\n",
       "      <td>161.000000</td>\n",
       "      <td>161.0</td>\n",
       "      <td>161.00000</td>\n",
       "    </tr>\n",
       "    <tr>\n",
       "      <th>mean</th>\n",
       "      <td>40345.527950</td>\n",
       "      <td>1580.863354</td>\n",
       "      <td>37.627329</td>\n",
       "      <td>1458.366460</td>\n",
       "      <td>15.838509</td>\n",
       "      <td>5.521739</td>\n",
       "      <td>2020.0</td>\n",
       "      <td>3.00000</td>\n",
       "    </tr>\n",
       "    <tr>\n",
       "      <th>std</th>\n",
       "      <td>39936.648663</td>\n",
       "      <td>1101.169472</td>\n",
       "      <td>33.265376</td>\n",
       "      <td>1240.265635</td>\n",
       "      <td>8.656573</td>\n",
       "      <td>1.573559</td>\n",
       "      <td>0.0</td>\n",
       "      <td>2.00624</td>\n",
       "    </tr>\n",
       "    <tr>\n",
       "      <th>min</th>\n",
       "      <td>0.000000</td>\n",
       "      <td>5.000000</td>\n",
       "      <td>0.000000</td>\n",
       "      <td>0.000000</td>\n",
       "      <td>1.000000</td>\n",
       "      <td>3.000000</td>\n",
       "      <td>2020.0</td>\n",
       "      <td>0.00000</td>\n",
       "    </tr>\n",
       "    <tr>\n",
       "      <th>25%</th>\n",
       "      <td>30395.000000</td>\n",
       "      <td>972.000000</td>\n",
       "      <td>17.000000</td>\n",
       "      <td>947.000000</td>\n",
       "      <td>9.000000</td>\n",
       "      <td>4.000000</td>\n",
       "      <td>2020.0</td>\n",
       "      <td>1.00000</td>\n",
       "    </tr>\n",
       "    <tr>\n",
       "      <th>50%</th>\n",
       "      <td>40247.000000</td>\n",
       "      <td>1192.000000</td>\n",
       "      <td>21.000000</td>\n",
       "      <td>1121.000000</td>\n",
       "      <td>16.000000</td>\n",
       "      <td>6.000000</td>\n",
       "      <td>2020.0</td>\n",
       "      <td>3.00000</td>\n",
       "    </tr>\n",
       "    <tr>\n",
       "      <th>75%</th>\n",
       "      <td>46492.000000</td>\n",
       "      <td>1704.000000</td>\n",
       "      <td>53.000000</td>\n",
       "      <td>1576.000000</td>\n",
       "      <td>23.000000</td>\n",
       "      <td>7.000000</td>\n",
       "      <td>2020.0</td>\n",
       "      <td>5.00000</td>\n",
       "    </tr>\n",
       "    <tr>\n",
       "      <th>max</th>\n",
       "      <td>493002.000000</td>\n",
       "      <td>5138.000000</td>\n",
       "      <td>127.000000</td>\n",
       "      <td>5231.000000</td>\n",
       "      <td>31.000000</td>\n",
       "      <td>8.000000</td>\n",
       "      <td>2020.0</td>\n",
       "      <td>6.00000</td>\n",
       "    </tr>\n",
       "  </tbody>\n",
       "</table>\n",
       "</div>"
      ],
      "text/plain": [
       "                Test        Hasta        Ölüm   Kurtarılan         Gün  \\\n",
       "count     161.000000   161.000000  161.000000   161.000000  161.000000   \n",
       "mean    40345.527950  1580.863354   37.627329  1458.366460   15.838509   \n",
       "std     39936.648663  1101.169472   33.265376  1240.265635    8.656573   \n",
       "min         0.000000     5.000000    0.000000     0.000000    1.000000   \n",
       "25%     30395.000000   972.000000   17.000000   947.000000    9.000000   \n",
       "50%     40247.000000  1192.000000   21.000000  1121.000000   16.000000   \n",
       "75%     46492.000000  1704.000000   53.000000  1576.000000   23.000000   \n",
       "max    493002.000000  5138.000000  127.000000  5231.000000   31.000000   \n",
       "\n",
       "               Ay     Yıl  Haftanın_günü  \n",
       "count  161.000000   161.0      161.00000  \n",
       "mean     5.521739  2020.0        3.00000  \n",
       "std      1.573559     0.0        2.00624  \n",
       "min      3.000000  2020.0        0.00000  \n",
       "25%      4.000000  2020.0        1.00000  \n",
       "50%      6.000000  2020.0        3.00000  \n",
       "75%      7.000000  2020.0        5.00000  \n",
       "max      8.000000  2020.0        6.00000  "
      ]
     },
     "execution_count": 9,
     "metadata": {},
     "output_type": "execute_result"
    }
   ],
   "source": [
    "ydf.describe()"
   ]
  },
  {
   "cell_type": "code",
   "execution_count": 10,
   "metadata": {
    "scrolled": true
   },
   "outputs": [
    {
     "data": {
      "text/html": [
       "<div>\n",
       "<style scoped>\n",
       "    .dataframe tbody tr th:only-of-type {\n",
       "        vertical-align: middle;\n",
       "    }\n",
       "\n",
       "    .dataframe tbody tr th {\n",
       "        vertical-align: top;\n",
       "    }\n",
       "\n",
       "    .dataframe thead th {\n",
       "        text-align: right;\n",
       "    }\n",
       "</style>\n",
       "<table border=\"1\" class=\"dataframe\">\n",
       "  <thead>\n",
       "    <tr style=\"text-align: right;\">\n",
       "      <th></th>\n",
       "      <th>Tarih</th>\n",
       "      <th>Test</th>\n",
       "      <th>Hasta</th>\n",
       "      <th>Ölüm</th>\n",
       "      <th>Kurtarılan</th>\n",
       "      <th>Gün</th>\n",
       "      <th>Ay</th>\n",
       "      <th>Yıl</th>\n",
       "      <th>Haftanın_günü</th>\n",
       "      <th>GünIsmi</th>\n",
       "      <th>ÖlümGrubu</th>\n",
       "    </tr>\n",
       "  </thead>\n",
       "  <tbody>\n",
       "    <tr>\n",
       "      <th>0</th>\n",
       "      <td>2020-03-13</td>\n",
       "      <td>0</td>\n",
       "      <td>5</td>\n",
       "      <td>0.0</td>\n",
       "      <td>0.0</td>\n",
       "      <td>13</td>\n",
       "      <td>3</td>\n",
       "      <td>2020</td>\n",
       "      <td>4</td>\n",
       "      <td>Friday</td>\n",
       "      <td>&lt;15</td>\n",
       "    </tr>\n",
       "    <tr>\n",
       "      <th>1</th>\n",
       "      <td>2020-03-14</td>\n",
       "      <td>0</td>\n",
       "      <td>6</td>\n",
       "      <td>0.0</td>\n",
       "      <td>0.0</td>\n",
       "      <td>14</td>\n",
       "      <td>3</td>\n",
       "      <td>2020</td>\n",
       "      <td>5</td>\n",
       "      <td>Saturday</td>\n",
       "      <td>&lt;15</td>\n",
       "    </tr>\n",
       "    <tr>\n",
       "      <th>2</th>\n",
       "      <td>2020-03-15</td>\n",
       "      <td>0</td>\n",
       "      <td>7</td>\n",
       "      <td>0.0</td>\n",
       "      <td>0.0</td>\n",
       "      <td>15</td>\n",
       "      <td>3</td>\n",
       "      <td>2020</td>\n",
       "      <td>6</td>\n",
       "      <td>Sunday</td>\n",
       "      <td>&lt;15</td>\n",
       "    </tr>\n",
       "    <tr>\n",
       "      <th>3</th>\n",
       "      <td>2020-03-16</td>\n",
       "      <td>0</td>\n",
       "      <td>31</td>\n",
       "      <td>0.0</td>\n",
       "      <td>0.0</td>\n",
       "      <td>16</td>\n",
       "      <td>3</td>\n",
       "      <td>2020</td>\n",
       "      <td>0</td>\n",
       "      <td>Monday</td>\n",
       "      <td>&lt;15</td>\n",
       "    </tr>\n",
       "    <tr>\n",
       "      <th>4</th>\n",
       "      <td>2020-03-17</td>\n",
       "      <td>0</td>\n",
       "      <td>49</td>\n",
       "      <td>1.0</td>\n",
       "      <td>0.0</td>\n",
       "      <td>17</td>\n",
       "      <td>3</td>\n",
       "      <td>2020</td>\n",
       "      <td>1</td>\n",
       "      <td>Tuesday</td>\n",
       "      <td>&lt;15</td>\n",
       "    </tr>\n",
       "  </tbody>\n",
       "</table>\n",
       "</div>"
      ],
      "text/plain": [
       "       Tarih  Test  Hasta  Ölüm  Kurtarılan  Gün  Ay   Yıl  Haftanın_günü  \\\n",
       "0 2020-03-13     0      5   0.0         0.0   13   3  2020              4   \n",
       "1 2020-03-14     0      6   0.0         0.0   14   3  2020              5   \n",
       "2 2020-03-15     0      7   0.0         0.0   15   3  2020              6   \n",
       "3 2020-03-16     0     31   0.0         0.0   16   3  2020              0   \n",
       "4 2020-03-17     0     49   1.0         0.0   17   3  2020              1   \n",
       "\n",
       "    GünIsmi ÖlümGrubu  \n",
       "0    Friday       <15  \n",
       "1  Saturday       <15  \n",
       "2    Sunday       <15  \n",
       "3    Monday       <15  \n",
       "4   Tuesday       <15  "
      ]
     },
     "execution_count": 10,
     "metadata": {},
     "output_type": "execute_result"
    }
   ],
   "source": [
    "\n",
    "ydf.loc[(ydf[\"Ölüm\"]>15)& (ydf[\"Ölüm\"]<40),\"ÖlümGrubu\"]='15-40'\n",
    "ydf.loc[(ydf[\"Ölüm\"]<15),\"ÖlümGrubu\"]='<15'\n",
    "ydf.loc[(ydf[\"Ölüm\"]>40),\"ÖlümGrubu\"]='>40'\n",
    "ydf.head()"
   ]
  },
  {
   "cell_type": "code",
   "execution_count": 11,
   "metadata": {},
   "outputs": [
    {
     "data": {
      "text/html": [
       "<div>\n",
       "<style scoped>\n",
       "    .dataframe tbody tr th:only-of-type {\n",
       "        vertical-align: middle;\n",
       "    }\n",
       "\n",
       "    .dataframe tbody tr th {\n",
       "        vertical-align: top;\n",
       "    }\n",
       "\n",
       "    .dataframe thead th {\n",
       "        text-align: right;\n",
       "    }\n",
       "</style>\n",
       "<table border=\"1\" class=\"dataframe\">\n",
       "  <thead>\n",
       "    <tr style=\"text-align: right;\">\n",
       "      <th></th>\n",
       "      <th>Hasta</th>\n",
       "      <th>Ölüm</th>\n",
       "    </tr>\n",
       "  </thead>\n",
       "  <tbody>\n",
       "    <tr>\n",
       "      <th>70</th>\n",
       "      <td>952</td>\n",
       "      <td>27.0</td>\n",
       "    </tr>\n",
       "    <tr>\n",
       "      <th>71</th>\n",
       "      <td>1186</td>\n",
       "      <td>32.0</td>\n",
       "    </tr>\n",
       "    <tr>\n",
       "      <th>72</th>\n",
       "      <td>1141</td>\n",
       "      <td>32.0</td>\n",
       "    </tr>\n",
       "  </tbody>\n",
       "</table>\n",
       "</div>"
      ],
      "text/plain": [
       "    Hasta  Ölüm\n",
       "70    952  27.0\n",
       "71   1186  32.0\n",
       "72   1141  32.0"
      ]
     },
     "execution_count": 11,
     "metadata": {},
     "output_type": "execute_result"
    }
   ],
   "source": [
    "ydf.iloc[[70,71,72],[2,3]]"
   ]
  },
  {
   "cell_type": "code",
   "execution_count": 12,
   "metadata": {
    "scrolled": true
   },
   "outputs": [
    {
     "data": {
      "text/html": [
       "<div>\n",
       "<style scoped>\n",
       "    .dataframe tbody tr th:only-of-type {\n",
       "        vertical-align: middle;\n",
       "    }\n",
       "\n",
       "    .dataframe tbody tr th {\n",
       "        vertical-align: top;\n",
       "    }\n",
       "\n",
       "    .dataframe thead th {\n",
       "        text-align: right;\n",
       "    }\n",
       "</style>\n",
       "<table border=\"1\" class=\"dataframe\">\n",
       "  <thead>\n",
       "    <tr style=\"text-align: right;\">\n",
       "      <th></th>\n",
       "      <th>Test</th>\n",
       "      <th>Hasta</th>\n",
       "    </tr>\n",
       "  </thead>\n",
       "  <tbody>\n",
       "    <tr>\n",
       "      <th>3</th>\n",
       "      <td>0</td>\n",
       "      <td>31</td>\n",
       "    </tr>\n",
       "    <tr>\n",
       "      <th>4</th>\n",
       "      <td>0</td>\n",
       "      <td>49</td>\n",
       "    </tr>\n",
       "    <tr>\n",
       "      <th>5</th>\n",
       "      <td>0</td>\n",
       "      <td>93</td>\n",
       "    </tr>\n",
       "    <tr>\n",
       "      <th>6</th>\n",
       "      <td>1981</td>\n",
       "      <td>168</td>\n",
       "    </tr>\n",
       "    <tr>\n",
       "      <th>7</th>\n",
       "      <td>3656</td>\n",
       "      <td>311</td>\n",
       "    </tr>\n",
       "    <tr>\n",
       "      <th>8</th>\n",
       "      <td>2970</td>\n",
       "      <td>277</td>\n",
       "    </tr>\n",
       "  </tbody>\n",
       "</table>\n",
       "</div>"
      ],
      "text/plain": [
       "   Test  Hasta\n",
       "3     0     31\n",
       "4     0     49\n",
       "5     0     93\n",
       "6  1981    168\n",
       "7  3656    311\n",
       "8  2970    277"
      ]
     },
     "execution_count": 12,
     "metadata": {},
     "output_type": "execute_result"
    }
   ],
   "source": [
    "ydf.loc[[3,4,5,6,7,8],[\"Test\",\"Hasta\"]]"
   ]
  },
  {
   "cell_type": "code",
   "execution_count": 13,
   "metadata": {},
   "outputs": [
    {
     "data": {
      "text/plain": [
       "<matplotlib.legend.Legend at 0x16db4b94dc0>"
      ]
     },
     "execution_count": 13,
     "metadata": {},
     "output_type": "execute_result"
    },
    {
     "data": {
      "image/png": "[encoded data removed]",
      "text/plain": [
       "<Figure size 432x288 with 1 Axes>"
      ]
     },
     "metadata": {
      "needs_background": "light"
     },
     "output_type": "display_data"
    }
   ],
   "source": [
    "plt.plot(ydf[\"Kurtarılan\"],\"r--\",label=\"Kurtarılan\")\n",
    "plt.plot(ydf[\"Hasta\"],\"b:\",label=\"hasta\")\n",
    "plt.legend(loc=\"upper left\")"
   ]
  },
  {
   "cell_type": "code",
   "execution_count": 14,
   "metadata": {},
   "outputs": [
    {
     "data": {
      "text/plain": [
       "[<matplotlib.lines.Line2D at 0x16db4ca88b0>]"
      ]
     },
     "execution_count": 14,
     "metadata": {},
     "output_type": "execute_result"
    },
    {
     "data": {
      "image/png": "[encoded data removed]",
      "text/plain": [
       "<Figure size 432x288 with 2 Axes>"
      ]
     },
     "metadata": {
      "needs_background": "light"
     },
     "output_type": "display_data"
    }
   ],
   "source": [
    "plt.axes([0.05,0.1,1,1])\n",
    "plt.plot(ydf[\"Tarih\"],ydf[\"Kurtarılan\"],\"r\")\n",
    "plt.axes([1.2,0.1,1,1])\n",
    "plt.plot(ydf[\"Tarih\"],ydf[\"Hasta\"],\"b\")"
   ]
  },
  {
   "cell_type": "code",
   "execution_count": 15,
   "metadata": {},
   "outputs": [
    {
     "data": {
      "text/plain": [
       "[<matplotlib.lines.Line2D at 0x16db4d45130>]"
      ]
     },
     "execution_count": 15,
     "metadata": {},
     "output_type": "execute_result"
    },
    {
     "data": {
      "image/png": "[encoded data removed]",
      "text/plain": [
       "<Figure size 432x288 with 1 Axes>"
      ]
     },
     "metadata": {
      "needs_background": "light"
     },
     "output_type": "display_data"
    }
   ],
   "source": [
    "plt.plot(ydf[\"Tarih\"],ydf[\"Test\"],\"r\")"
   ]
  },
  {
   "cell_type": "code",
   "execution_count": 16,
   "metadata": {
    "scrolled": true
   },
   "outputs": [
    {
     "data": {
      "text/plain": [
       "Text(0, 0.5, 'Ölümler')"
      ]
     },
     "execution_count": 16,
     "metadata": {},
     "output_type": "execute_result"
    },
    {
     "data": {
      "image/png": "[encoded data removed]",
      "text/plain": [
       "<Figure size 432x288 with 1 Axes>"
      ]
     },
     "metadata": {
      "needs_background": "light"
     },
     "output_type": "display_data"
    }
   ],
   "source": [
    "plt.plot(ydf[\"Ölüm\"])\n",
    "plt.title(\"Ölüm Grafiği\")\n",
    "plt.xlabel(\"Yıllar\")\n",
    "plt.ylabel(\"Ölümler\")"
   ]
  },
  {
   "cell_type": "code",
   "execution_count": 17,
   "metadata": {},
   "outputs": [
    {
     "data": {
      "text/plain": [
       "<matplotlib.collections.PathCollection at 0x16db4f59f40>"
      ]
     },
     "execution_count": 17,
     "metadata": {},
     "output_type": "execute_result"
    },
    {
     "data": {
      "image/png": "[encoded data removed]",
      "text/plain": [
       "<Figure size 432x288 with 1 Axes>"
      ]
     },
     "metadata": {
      "needs_background": "light"
     },
     "output_type": "display_data"
    }
   ],
   "source": [
    "plt.scatter(ydf[\"Tarih\"],ydf[\"Hasta\"])"
   ]
  },
  {
   "cell_type": "code",
   "execution_count": 18,
   "metadata": {},
   "outputs": [
    {
     "data": {
      "text/plain": [
       "(array([31., 41., 48., 10.,  7.,  6.,  6.,  1.,  2.,  9.]),\n",
       " array([   0. ,  523.1, 1046.2, 1569.3, 2092.4, 2615.5, 3138.6, 3661.7,\n",
       "        4184.8, 4707.9, 5231. ]),\n",
       " <BarContainer object of 10 artists>)"
      ]
     },
     "execution_count": 18,
     "metadata": {},
     "output_type": "execute_result"
    },
    {
     "data": {
      "image/png": "[encoded data removed]",
      "text/plain": [
       "<Figure size 432x288 with 1 Axes>"
      ]
     },
     "metadata": {
      "needs_background": "light"
     },
     "output_type": "display_data"
    }
   ],
   "source": [
    "plt.hist(ydf[\"Kurtarılan\"])"
   ]
  },
  {
   "cell_type": "code",
   "execution_count": 19,
   "metadata": {},
   "outputs": [
    {
     "data": {
      "text/plain": [
       "<matplotlib.collections.PathCollection at 0x16db5038670>"
      ]
     },
     "execution_count": 19,
     "metadata": {},
     "output_type": "execute_result"
    },
    {
     "data": {
      "image/png": "[encoded data removed]",
      "text/plain": [
       "<Figure size 432x288 with 1 Axes>"
      ]
     },
     "metadata": {
      "needs_background": "light"
     },
     "output_type": "display_data"
    }
   ],
   "source": [
    "plt.scatter(ydf[\"GünIsmi\"],ydf[\"Hasta\"])"
   ]
  },
  {
   "cell_type": "code",
   "execution_count": 20,
   "metadata": {},
   "outputs": [],
   "source": [
    "Monday=ydf[ydf[\"Haftanın_günü\"]==0]\n",
    "sMonday=Monday[\"Hasta\"].sum()\n",
    "\n",
    "Tuseday=ydf[ydf[\"Haftanın_günü\"]==1]\n",
    "sTuseday=Tuseday[\"Hasta\"].sum()\n",
    "\n",
    "Wednesday=ydf[ydf[\"Haftanın_günü\"]==2]\n",
    "sWednesday=Wednesday[\"Hasta\"].sum()\n",
    "\n",
    "Thursday=ydf[ydf[\"Haftanın_günü\"]==3]\n",
    "sThursday=Thursday[\"Hasta\"].sum()\n",
    "\n",
    "Friday=ydf[ydf[\"Haftanın_günü\"]==4]\n",
    "sFriday=Friday[\"Hasta\"].sum()\n",
    "\n",
    "Saturday=ydf[ydf[\"Haftanın_günü\"]==5]\n",
    "sSaturday=Saturday[\"Hasta\"].sum()\n",
    "\n",
    "Sunday=ydf[ydf[\"Haftanın_günü\"]==6]\n",
    "sSunday=Sunday[\"Hasta\"].sum()"
   ]
  },
  {
   "cell_type": "code",
   "execution_count": 21,
   "metadata": {},
   "outputs": [],
   "source": [
    "kMonday=Monday[\"Kurtarılan\"].sum()\n",
    "kTuseday=Tuseday[\"Kurtarılan\"].sum()\n",
    "kWednesday=Wednesday[\"Kurtarılan\"].sum()\n",
    "kThursday=Thursday[\"Kurtarılan\"].sum()\n",
    "kFriday=Friday[\"Kurtarılan\"].sum()\n",
    "kSaturday=Saturday[\"Kurtarılan\"].sum()\n",
    "kSunday=Sunday[\"Kurtarılan\"].sum()"
   ]
  },
  {
   "cell_type": "code",
   "execution_count": 22,
   "metadata": {},
   "outputs": [],
   "source": [
    "HaftalıkKurtarılanSayısı=[kMonday,kTuseday,kWednesday,kThursday,kFriday,kSaturday,kSunday]\n",
    "HaftaKurtSayısı=np.array(HaftalıkKurtarılanSayısı)"
   ]
  },
  {
   "cell_type": "code",
   "execution_count": 23,
   "metadata": {},
   "outputs": [],
   "source": [
    "HaftalıkHastaSayısı=[sMonday,sTuseday,sWednesday,sThursday,sFriday,sSaturday,sSunday]\n",
    "HaftalıkHastSay=np.array(HaftalıkHastaSayısı)\n",
    "GünIsmi=np.array([\"Monday\",\"Tuseday\",\"WednesDay\",\"Thursday\",\"Friday\",\"Saturday\",\"Sunday\"])"
   ]
  },
  {
   "cell_type": "code",
   "execution_count": 24,
   "metadata": {
    "scrolled": false
   },
   "outputs": [
    {
     "data": {
      "text/plain": [
       "Text(0, 0.5, 'Toplam Hasta Sayısı')"
      ]
     },
     "execution_count": 24,
     "metadata": {},
     "output_type": "execute_result"
    },
    {
     "data": {
      "image/png": "[encoded data removed]",
      "text/plain": [
       "<Figure size 432x288 with 1 Axes>"
      ]
     },
     "metadata": {
      "needs_background": "light"
     },
     "output_type": "display_data"
    }
   ],
   "source": [
    "plt.axes([0.05,0.1,1,1])\n",
    "plt.plot(GünIsmi,HaftalıkHastSay)\n",
    "plt.title(\"Haftanın Günlerinde Hasta Sayısı\")\n",
    "plt.xlabel(\"Haftanın Günleri\")\n",
    "plt.ylabel(\"Toplam Hasta Sayısı\")"
   ]
  },
  {
   "cell_type": "code",
   "execution_count": 25,
   "metadata": {
    "scrolled": false
   },
   "outputs": [
    {
     "data": {
      "text/plain": [
       "Text(0, 0.5, 'Toplam Kurtarılan Sayısı')"
      ]
     },
     "execution_count": 25,
     "metadata": {},
     "output_type": "execute_result"
    },
    {
     "data": {
      "image/png": "[encoded data removed]",
      "text/plain": [
       "<Figure size 432x288 with 1 Axes>"
      ]
     },
     "metadata": {
      "needs_background": "light"
     },
     "output_type": "display_data"
    }
   ],
   "source": [
    "plt.axes([0.05,0.1,1,1])\n",
    "plt.plot(GünIsmi,HaftaKurtSayısı)\n",
    "plt.title(\"Haftanın Günlerinde Kurtarılan Sayısı\")\n",
    "plt.xlabel(\"Haftanın Günleri\")\n",
    "plt.ylabel(\"Toplam Kurtarılan Sayısı\")"
   ]
  },
  {
   "cell_type": "code",
   "execution_count": 26,
   "metadata": {},
   "outputs": [
    {
     "data": {
      "text/plain": [
       "<AxesSubplot:xlabel='GünIsmi', ylabel='Test'>"
      ]
     },
     "execution_count": 26,
     "metadata": {},
     "output_type": "execute_result"
    },
    {
     "data": {
      "image/png": "[encoded data removed]",
      "text/plain": [
       "<Figure size 432x288 with 1 Axes>"
      ]
     },
     "metadata": {
      "needs_background": "light"
     },
     "output_type": "display_data"
    }
   ],
   "source": [
    "sns.barplot(y=\"Test\",x=\"GünIsmi\",data=ydf)"
   ]
  },
  {
   "cell_type": "code",
   "execution_count": 27,
   "metadata": {},
   "outputs": [
    {
     "data": {
      "text/plain": [
       "<AxesSubplot:xlabel='GünIsmi', ylabel='Ölüm'>"
      ]
     },
     "execution_count": 27,
     "metadata": {},
     "output_type": "execute_result"
    },
    {
     "data": {
      "image/png": "[encoded data removed]",
      "text/plain": [
       "<Figure size 432x288 with 1 Axes>"
      ]
     },
     "metadata": {
      "needs_background": "light"
     },
     "output_type": "display_data"
    }
   ],
   "source": [
    "sns.boxplot(y=\"Ölüm\",x=\"GünIsmi\",data=ydf)"
   ]
  },
  {
   "cell_type": "code",
   "execution_count": 28,
   "metadata": {},
   "outputs": [
    {
     "data": {
      "text/plain": [
       "<AxesSubplot:xlabel='row_0'>"
      ]
     },
     "execution_count": 28,
     "metadata": {},
     "output_type": "execute_result"
    },
    {
     "data": {
      "image/png": "[encoded data removed]",
      "text/plain": [
       "<Figure size 432x288 with 1 Axes>"
      ]
     },
     "metadata": {
      "needs_background": "light"
     },
     "output_type": "display_data"
    }
   ],
   "source": [
    "freg=pd.crosstab(HaftalıkHastSay,GünIsmi)\n",
    "freg.plot()"
   ]
  },
  {
   "cell_type": "code",
   "execution_count": 29,
   "metadata": {},
   "outputs": [
    {
     "data": {
      "text/plain": [
       "<AxesSubplot:>"
      ]
     },
     "execution_count": 29,
     "metadata": {},
     "output_type": "execute_result"
    },
    {
     "data": {
      "image/png": "[encoded data removed]",
      "text/plain": [
       "<Figure size 432x288 with 2 Axes>"
      ]
     },
     "metadata": {
      "needs_background": "light"
     },
     "output_type": "display_data"
    }
   ],
   "source": [
    "sns.heatmap(ydf.corr(), annot = True, linewidths = 2)"
   ]
  },
  {
   "cell_type": "code",
   "execution_count": null,
   "metadata": {},
   "outputs": [],
   "source": []
  }
 ],
 "metadata": {
  "kernelspec": {
   "display_name": "Python 3",
   "language": "python",
   "name": "python3"
  },
  "language_info": {
   "codemirror_mode": {
    "name": "ipython",
    "version": 3
   },
   "file_extension": ".py",
   "mimetype": "text/x-python",
   "name": "python",
   "nbconvert_exporter": "python",
   "pygments_lexer": "ipython3",
   "version": "3.8.8"
  }
 },
 "nbformat": 4,
 "nbformat_minor": 4
}
